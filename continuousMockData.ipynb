{
 "cells": [
  {
   "cell_type": "code",
   "execution_count": 7,
   "metadata": {
    "collapsed": true
   },
   "outputs": [],
   "source": [
    "import numpy as np\n",
    "import matplotlib.pyplot as plt\n",
    "import pandas as pd\n",
    "\n",
    "%matplotlib inline"
   ]
  },
  {
   "cell_type": "code",
   "execution_count": 61,
   "metadata": {
    "collapsed": true
   },
   "outputs": [],
   "source": [
    "def createMockCluster(rin,rout,nmean,k,smax,m,vmean,threeD=False):\n",
    "    ntot = np.random.poisson(lam=nmean)\n",
    "    \n",
    "    nu0 = ntot/(4*np.pi*(np.log(rout/rin))) if k==3. else ntot*(3.-k)/(4*np.pi*(rout**(3.-k)-rin**(3.-k)))\n",
    "    #rho = 4*np.pi*nu0*np.random.uniform(low=rin,high=rout,size=ntot)**(2.-k)\n",
    "    rho = np.power(np.random.uniform(4*np.pi*nu0*rin**(2.-k),4*np.pi*nu0*rout**(2.-k),size=ntot)/(4*np.pi*nu0),1./(2-k))\n",
    "    phi = np.random.uniform(0.,2*np.pi,ntot)\n",
    "    theta = np.arccos(np.random.uniform(-1,1,ntot))\n",
    "    \n",
    "    x = rho*np.sin(theta)*np.cos(phi)\n",
    "    y = rho*np.sin(theta)*np.sin(phi)\n",
    "    \n",
    "    vobs = np.array([np.random.normal(loc=vmean,scale=np.sqrt(3)*smax/(i**m)) for i in rho])\n",
    "    \n",
    "    if threeD:\n",
    "        z = rho*np.cos(theta)\n",
    "        return pd.DataFrame(np.hstack((x.reshape((ntot,1)),y.reshape((ntot,1)),z.reshape((ntot,1)),\\\n",
    "                                      vobs.reshape((ntot,1)),rho.reshape((ntot,1)))),columns=['x','y','z','vobs','rho'])\n",
    "    else:\n",
    "        r = np.sqrt(np.power(x,2.)+np.power(y,2.))\n",
    "        return pd.DataFrame(np.hstack((r.reshape((ntot,1)),vobs.reshape((ntot,1)))),columns=['r','vobs'])"
   ]
  },
  {
   "cell_type": "code",
   "execution_count": 68,
   "metadata": {
    "collapsed": false
   },
   "outputs": [],
   "source": [
    "cl = createMockCluster(1,1000,1000,3,1000,.2,0,threeD=True)\n",
    "\n",
    "#plt.plot(cl.sort(['rho']))\n",
    "\n",
    "#a,b,c = plt.hist(cl['rho'])\n",
    "#plt.xscale('log')\n",
    "#plt.yscale('log')\n",
    "#plt.xlabel('r')\n",
    "#plt.ylabel('count')"
   ]
  },
  {
   "cell_type": "code",
   "execution_count": 70,
   "metadata": {
    "collapsed": false
   },
   "outputs": [],
   "source": [
    "for i in range(5):\n",
    "    name = 'continuousMock'+str(i)+'.csv'\n",
    "    cl = createMockCluster(1,1000,1000,3,1000,.2,0)\n",
    "    cl.to_csv(name)"
   ]
  },
  {
   "cell_type": "code",
   "execution_count": null,
   "metadata": {
    "collapsed": true
   },
   "outputs": [],
   "source": []
  }
 ],
 "metadata": {
  "kernelspec": {
   "display_name": "Python 2",
   "language": "python",
   "name": "python2"
  },
  "language_info": {
   "codemirror_mode": {
    "name": "ipython",
    "version": 2
   },
   "file_extension": ".py",
   "mimetype": "text/x-python",
   "name": "python",
   "nbconvert_exporter": "python",
   "pygments_lexer": "ipython2",
   "version": "2.7.10"
  }
 },
 "nbformat": 4,
 "nbformat_minor": 0
}
