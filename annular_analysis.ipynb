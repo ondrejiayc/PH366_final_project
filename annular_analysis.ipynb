{
 "cells": [
  {
   "cell_type": "markdown",
   "metadata": {},
   "source": [
    "Ideas to make this work:\n",
    "\n",
    "* run longer chain\n",
    "* change the chain step sizes\n",
    "* implement reasonable priors and potentially update likelihoods\n",
    "* figure out with what probability to accept the next step\n",
    "* change the number of annuli (not shells!)\n"
   ]
  },
  {
   "cell_type": "code",
   "execution_count": 1,
   "metadata": {
    "collapsed": true
   },
   "outputs": [],
   "source": [
    "import numpy as np\n",
    "import matplotlib.pyplot as plt\n",
    "import pandas as pd\n",
    "from scipy import stats\n",
    "\n",
    "% matplotlib inline\n",
    "\n",
    "plt.rcParams['figure.figsize'] = (15.0, 8.0) "
   ]
  },
  {
   "cell_type": "code",
   "execution_count": 2,
   "metadata": {
    "collapsed": true
   },
   "outputs": [],
   "source": [
    "def defineAnnuli(r,nAnn):\n",
    "    return np.append(0.,np.sort(r)[np.linspace(0,len(r)-1,nAnn).astype(int)][1:])\n",
    "\n",
    "def labelGalaxies(data,annuli):\n",
    "    #adds a column to data indicating the galaxy's membership in an annulus\n",
    "    bla = np.zeros(len(data['r']))\n",
    "    for i in range(len(annuli)-1):\n",
    "        bla += i*np.array(np.logical_and(data['r']>annuli[i],data['r']<=annuli[i+1]).astype(int))\n",
    "    return bla\n",
    "\n",
    "def galInAnn(data,annuli):\n",
    "    #calculates the number of galaxies in all the annuli\n",
    "    return np.array([(data['annuli']==i).sum() for i in range(len(annuli)-1)])\n",
    "\n",
    "def sigInAnn(data,annuli):\n",
    "    return [np.std(data['vobs'][data['annuli']==i],ddof=1) for i in range(len(annuli)-1)]\n",
    "\n"
   ]
  },
  {
   "cell_type": "code",
   "execution_count": 3,
   "metadata": {
    "collapsed": false
   },
   "outputs": [
    {
     "name": "stdout",
     "output_type": "stream",
     "text": [
      "[   0.            1.56247349    2.16977251    3.42965227    5.10062805\n",
      "    7.74654233   11.24012234   16.92425282   23.85469564   34.64472916\n",
      "   47.14815397   64.64659462   81.82870312  102.85160642  160.69250602\n",
      "  211.73549208  272.81301104  380.21848947  513.90598477  681.25847525\n",
      "  982.44091053]\n",
      "[50 50 50 50 50 50 50 50 50 50 50 50 50 50 50 50 50 50 50 50]\n",
      "[525.7960516475589, 376.28124905187155, 383.07124176272396, 358.96055477503245, 315.46086291605195, 408.0943747550376, 381.78225532521384, 312.13282180655, 311.7578869361472, 272.8620545805943, 213.4421187383344, 262.0915800482399, 187.45072493468962, 217.08764310751928, 214.6527290233689, 182.63152625120094, 139.90779000787603, 170.52082332946424, 168.8861877266652, 158.1697709405361]\n"
     ]
    }
   ],
   "source": [
    "data=pd.read_csv('mock_cluster_4.csv')\n",
    "data.rename(columns={'Unnamed: 0':'id','0':'origAnn','1':'x','2':'y','3':'z','4':'vobs'},inplace=True)\n",
    "\n",
    "data['r'] = np.power(np.power(data['x'],2.)+np.power(data['y'],2.),0.5)\n",
    "\n",
    "nAnn = 20 #number of desired annuli\n",
    "annuli = defineAnnuli(data['r'],nAnn+1) \n",
    "\n",
    "print annuli\n",
    "\n",
    "#summarize the true data\n",
    "\n",
    "# number of galaxies per annulus\n",
    "    \n",
    "data['annuli']=labelGalaxies(data,annuli)\n",
    "nData = galInAnn(data,annuli)\n",
    "sigmaData = sigInAnn(data,annuli)\n",
    "\n",
    "print nData\n",
    "print sigmaData"
   ]
  },
  {
   "cell_type": "code",
   "execution_count": 5,
   "metadata": {
    "collapsed": false
   },
   "outputs": [],
   "source": [
    "data['rho'] = np.power(np.power(data['x'],2.)+np.power(data['y'],2.)+np.power(data['z'],2.),0.5)\n",
    "\n",
    "def defineRadii(nTot=1000.,rOut=1000.,nAnn=10,k=3):\n",
    "    radii = np.array([1.])\n",
    "    if k==3.:\n",
    "        nu0 = nTot/(4*np.pi*np.log(rOut))\n",
    "        c = nTot/(nAnn*4*np.pi*nu0)\n",
    "    else:\n",
    "        nu0 = nTot*(3.-k)/(4*np.pi*(rOut**(3.-k)-1.))\n",
    "        c = (3-k)*nTot/(4*np.pi*nu0*nAnn)\n",
    "        \n",
    "    for i in range(nAnn):\n",
    "        if k==3.:\n",
    "            radii = np.append(radii,np.exp(c+np.log(radii[i])))\n",
    "        else:\n",
    "            radii = np.append(radii,(c+radii[i]**(3-k))**(1./(3-k)))\n",
    "    return radii\n",
    "    \n",
    "\n",
    "radii10 = defineRadii()\n",
    "radii100 = defineRadii(nAnn=100)\n",
    "\n",
    "#bla1,bla2,bla3 = plt.hist(data['rho'],bins=radii10)\n",
    "#bla4,bla5,bla6 = plt.hist(data['rho'],bins=radii100)\n",
    "\n",
    "#plt.plot((0.5*(radii10[1:]**3+radii10[:-1]**3))**(1/3.),bla1/(4*np.pi*(radii10[1:]**3-radii10[:-1]**3)),'ro')\n",
    "#plt.plot((0.5*(radii100[1:]**3+radii100[:-1]**3))**(1/3.),bla4/(4*np.pi*(radii100[1:]**3-radii100[:-1]**3)),'ro')\n",
    "#plt.plot(np.logspace(0,3,10),11*np.logspace(0,3,10)**-3)\n",
    "#plt.xscale('log')\n",
    "#plt.yscale('log')"
   ]
  },
  {
   "cell_type": "code",
   "execution_count": 193,
   "metadata": {
    "collapsed": false
   },
   "outputs": [
    {
     "name": "stdout",
     "output_type": "stream",
     "text": [
      "-2.86171670462 2.9772245996\n"
     ]
    }
   ],
   "source": [
    "x,y = np.log((0.5*(radii[1:]**3+radii[:-1]**3))**(1/3.)),np.log(bla1/(4*np.pi*(radii[1:]**3-radii[:-1]**3)))\n",
    "slope, intercept, r_value, p_value, std_err = stats.linregress(x,y)\n",
    "\n",
    "print slope, np.exp(intercept)"
   ]
  },
  {
   "cell_type": "code",
   "execution_count": 6,
   "metadata": {
    "collapsed": false
   },
   "outputs": [],
   "source": [
    "def defineShellRadii(nTot=1000.,rOut=1000.,nAnn=10,k=3):\n",
    "    radii = np.array([1.])\n",
    "    if k==3.:\n",
    "        nu0 = nTot/(4*np.pi*np.log(rOut))\n",
    "        c = nTot/(nAnn*4*np.pi*nu0)\n",
    "    else:\n",
    "        nu0 = nTot*(3.-k)/(4*np.pi*(rOut**(3.-k)-1.))\n",
    "        c = (3-k)*nTot/(4*np.pi*nu0*nAnn)\n",
    "        \n",
    "    for i in range(nAnn):\n",
    "        if k==3.:\n",
    "            radii = np.append(radii,np.exp(c+np.log(radii[i])))\n",
    "        else:\n",
    "            radii = np.append(radii,(c+radii[i]**(3-k))**(1./(3-k)))\n",
    "    return radii\n",
    "\n",
    "defineShellRadii()\n",
    "\n",
    "def nuProfile(Ntot,radii,k=2.9):\n",
    "    nu0 = Ntot / (4.*np.pi*(nuInt(radii[-1], k)-nuInt(radii[0], k)))\n",
    "    print nu0\n",
    "    #print 'nu0:' ,nu0\n",
    "    return (nu0*(nuInt(radii[1:],k) - nuInt(radii[:-1],k))).astype(int)\n",
    "\n",
    "def sigmaProfile(radii,sigMax=1000,k=-.2):\n",
    "    return sigMax*(0.5*(radii[1:]+radii[:-1]))**k"
   ]
  },
  {
   "cell_type": "code",
   "execution_count": 7,
   "metadata": {
    "collapsed": true
   },
   "outputs": [],
   "source": [
    "def createMockData(Ntot=1000,rOut=1000.,nAnn=10,sigMax=1000,kindex=3.,sigmaindex=-0.2): #total Ngals, no of shells\n",
    "    clusterData = np.zeros((2*Ntot,2))\n",
    "    counter=0\n",
    "    radii = defineShellRadii(Ntot,rOut,nAnn,kindex)\n",
    "    #density = nuProfile(Ntot,radii,k=kindex)\n",
    "    sig = sigmaProfile(radii,sigMax,k=sigmaindex)\n",
    "    \n",
    "    for shell,dens in enumerate(np.random.poisson(Ntot/nAnn*np.ones(nAnn))):\n",
    "        #generate positions\n",
    "        phi = np.random.uniform(0.,2*np.pi,dens)\n",
    "        cosTheta = np.random.uniform(-1,1,dens)\n",
    "        theta = np.arccos(cosTheta)\n",
    "        u = np.random.uniform(radii[shell]**3,radii[shell+1]**3,dens) #cuberoot([rin,rout])\n",
    "        r = np.power(u,1./3)\n",
    "        \n",
    "        x = r*np.sin(theta)*np.cos(phi)\n",
    "        y = r*np.sin(theta)*np.sin(phi)\n",
    "        z = r*cosTheta\n",
    "        \n",
    "        radius = np.power(np.power(x,2.)+np.power(y,2.),0.5)\n",
    "        #generate velocities\n",
    "        \n",
    "        speed = sig[shell]*np.random.randn(dens)\n",
    "        #phi = np.random.uniform(0.,2*np.pi,dens)\n",
    "        cosTheta = np.random.uniform(-1,1,dens)\n",
    "        #theta = np.arccos(cosTheta)\n",
    "        \n",
    "        v=speed*cosTheta\n",
    "        \n",
    "        #replace with vstack,append\n",
    "        clusterData[counter:counter+dens]=np.hstack((radius.reshape((dens,1)),v.reshape((dens,1))))\n",
    "        counter += dens\n",
    "    \n",
    "    #print 'Created mock data with '+str(counter)+' galaxies.'\n",
    "    return pd.DataFrame(clusterData[:counter],columns=['r','vobs'])"
   ]
  },
  {
   "cell_type": "code",
   "execution_count": 8,
   "metadata": {
    "collapsed": false
   },
   "outputs": [
    {
     "name": "stdout",
     "output_type": "stream",
     "text": [
      "(array([28, 19, 45, 44, 30, 53, 43, 37, 58, 46, 70, 31, 47, 85, 61, 56, 67,\n",
      "       80, 66, 51]), [283.21564471536, 242.883220014581, 361.0815852550353, 218.8054521781515, 267.08395228835053, 246.942500187028, 265.79060985552127, 287.16544249224904, 275.7703050760381, 426.3690160767119, 442.8102375797874, 343.01317011719874, 246.0802992644083, 382.1147778992724, 397.13086337245085, 347.83926225765885, 402.33089787162316, 460.46390708949724, 396.5885738121968, 275.73668099884304])\n"
     ]
    }
   ],
   "source": [
    "#a single \"mcmc step\"\n",
    "kIndex = 2.76\n",
    "sigmaIndex = 0.1\n",
    "sigMax = 390\n",
    "\n",
    "def mcmcStep(annuli,kInd,sInd,sMaxInd):\n",
    "    mockData = createMockData(len(data['r']),np.amax(data['r']),10,sigMax,kIndex,sigmaIndex)\n",
    "    mockData['annuli'] = labelGalaxies(mockData,annuli)\n",
    "    return galInAnn(mockData,annuli),sigInAnn(mockData,annuli)\n",
    "\n",
    "print mcmcStep(annuli,kIndex,sigmaIndex,sigMax)"
   ]
  },
  {
   "cell_type": "code",
   "execution_count": 9,
   "metadata": {
    "collapsed": false
   },
   "outputs": [],
   "source": [
    "#all log likelihoods\n",
    "\n",
    "#make a table of log(n!)-s for n=1,...\n",
    "factorialTable = np.cumsum(np.append(0,[np.log(i) for i in range(1,len(data['r']))]))\n",
    "\n",
    "def logPriorNu(k):\n",
    "    #starting gaussian\n",
    "    nu0 = 3. #mean prior density index\n",
    "    sigma = 1.\n",
    "    return -0.5*np.log(2*np.pi*sigma**2)-0.5*(k-nu0)**2/(2*sigma**2)\n",
    "\n",
    "def logPriorSigma(k):\n",
    "    #starting gaussian\n",
    "    nu0 = -.2 #mean prior sigma index\n",
    "    sigma = 0.1\n",
    "    return -0.5*np.log(2*np.pi*sigma**2)-0.5*(k-nu0)**2/(2*sigma**2)\n",
    "\n",
    "def logPriorSigmaNorm(k):\n",
    "    #starting gaussian\n",
    "    nu0 = 1000 #mean prior sigma index\n",
    "    sigma = 500\n",
    "    return -0.5*np.log(2*np.pi*sigma**2)-0.5*(k-nu0)**2/(2*sigma**2)\n",
    " \n",
    "\n",
    "def logLikelihoodNu(prediction,data):\n",
    "    return np.sum(data*np.log(prediction)-prediction-factorialTable[data])\n",
    "\n",
    "def logLikelihoodSigma(vObs,vPred,nPred):\n",
    "    # distribution of variances is chisq, as shown, for example, at\n",
    "    # https://onlinecourses.science.psu.edu/stat414/node/174\n",
    "    return np.sum(np.log(stats.chi2.pdf((nPred-1.)*np.power(vObs,2.)/np.power(vPred,2.),nPred-1)))\n",
    "\n",
    "def logPosterior(vObs,vPred,nObs,nPred,kInd,sigmaInd,sigmaNorm):\n",
    "    return logPriorNu(kInd)+logPriorSigma(sigmaInd)+logPriorSigmaNorm(sigmaNorm)+\\\n",
    "           logLikelihoodNu(nPred,nObs)+logLikelihoodSigma(vObs,vPred,nPred)"
   ]
  },
  {
   "cell_type": "code",
   "execution_count": 10,
   "metadata": {
    "collapsed": false
   },
   "outputs": [
    {
     "name": "stdout",
     "output_type": "stream",
     "text": [
      "1012.81818182\n"
     ]
    }
   ],
   "source": [
    "while True:\n",
    "    dens,sig = mcmcStep(annuli,3,-0.2,1000)\n",
    "    if np.isnan(sig).any():\n",
    "        continue\n",
    "    else:\n",
    "        #print dens,sig\n",
    "        break\n",
    "\n",
    "while True:\n",
    "    hlp1,hlp2 = mcmcStep(annuli,3,-0.2,1000)\n",
    "    if np.isnan(hlp2).any():\n",
    "        continue\n",
    "    else:\n",
    "        #print hlp1,hlp2\n",
    "        dens,sig = np.vstack((dens,hlp1)),np.vstack((sig,hlp2))\n",
    "    if dens.shape[0]>10:\n",
    "        break\n",
    "        \n",
    "nPred,sigPred = np.mean(dens,axis=0),np.mean(sig,axis=0)\n",
    "\n",
    "print nPred.sum()"
   ]
  },
  {
   "cell_type": "code",
   "execution_count": 167,
   "metadata": {
    "collapsed": false
   },
   "outputs": [],
   "source": [
    "# Set up parameter grids:\n",
    "npix = 500\n",
    "amin,amax = -5,10.\n",
    "bmin,bmax = -2.,1.\n",
    "agrid = np.linspace(amin,amax,npix)\n",
    "bgrid = np.linspace(bmin,bmax,npix)\n",
    "logprob = np.zeros([npix,npix])\n",
    "\n",
    "# Loop over parameters, computing unnormlized log posterior PDF:\n",
    "for i,a in enumerate(agrid):\n",
    "    for j,b in enumerate(bgrid):\n",
    "        logprob[j,i] = logPosterior(sigmaData,sigPred,nData,nPred,a,b,1000)\n",
    "\n",
    "# Normalize and exponentiate to get posterior density:\n",
    "Z = np.max(logprob)\n",
    "prob = np.exp(logprob - Z)\n",
    "norm = np.sum(prob)\n",
    "prob /= norm"
   ]
  },
  {
   "cell_type": "code",
   "execution_count": 168,
   "metadata": {
    "collapsed": false
   },
   "outputs": [
    {
     "data": {
      "text/plain": [
       "<matplotlib.text.Text at 0x7fa9a1b0c490>"
      ]
     },
     "execution_count": 168,
     "metadata": {},
     "output_type": "execute_result"
    },
    {
     "data": {
      "image/png": "[encoded data removed]",
      "text/plain": [
       "<matplotlib.figure.Figure at 0x7fa9a177db50>"
      ]
     },
     "metadata": {},
     "output_type": "display_data"
    }
   ],
   "source": [
    "sorted = np.sort(prob.flatten())\n",
    "C = sorted.cumsum()\n",
    "\n",
    "# Find the pixel values that lie at the levels that contain\n",
    "# 68% and 95% of the probability:\n",
    "lvl68 = np.min(sorted[C > (1.0 - 0.68)])\n",
    "lvl95 = np.min(sorted[C > (1.0 - 0.95)])\n",
    "\n",
    "plt.imshow(prob, origin='lower', cmap='Blues', interpolation='none', extent=[amin,amax,bmin,bmax])\n",
    "plt.contour(prob,[lvl68,lvl95],colors='black',extent=[amin,amax,bmin,bmax])\n",
    "plt.grid()\n",
    "plt.xlabel('density index')\n",
    "plt.ylabel('sigma index')"
   ]
  },
  {
   "cell_type": "code",
   "execution_count": 169,
   "metadata": {
    "collapsed": false
   },
   "outputs": [
    {
     "data": {
      "text/plain": [
       "<matplotlib.text.Text at 0x7fa9a09b6610>"
      ]
     },
     "execution_count": 169,
     "metadata": {},
     "output_type": "execute_result"
    },
    {
     "data": {
      "image/png": "[encoded data removed]",
      "text/plain": [
       "<matplotlib.figure.Figure at 0x7fa9a1267ad0>"
      ]
     },
     "metadata": {},
     "output_type": "display_data"
    }
   ],
   "source": [
    "prob_kInd_given_data = np.sum(prob,axis=0) # Approximate the integral as a sum\n",
    "prob_sigmaInd_given_data = np.sum(prob,axis=1) # Approximate the integral as a sum\n",
    "\n",
    "fig,ax = plt.subplots(nrows=1, ncols=2)\n",
    "fig.set_size_inches(15, 6)\n",
    "plt.subplots_adjust(wspace=0.2)\n",
    "\n",
    "left = ax[0].plot(agrid, prob_kInd_given_data)\n",
    "ax[0].set_title('${\\\\rm Pr}(kInd|d)$')\n",
    "ax[0].set_xlabel('galaxy density slope')\n",
    "ax[0].set_ylabel('Posterior probability density')\n",
    "\n",
    "right = ax[1].plot(bgrid, prob_sigmaInd_given_data)\n",
    "ax[1].set_title('${\\\\rm Pr}(sigmaInd|d)$')\n",
    "ax[0].set_xlabel('velocity spread slope')\n",
    "ax[1].set_ylabel('Posterior probability density')"
   ]
  },
  {
   "cell_type": "code",
   "execution_count": 170,
   "metadata": {
    "collapsed": false
   },
   "outputs": [
    {
     "name": "stdout",
     "output_type": "stream",
     "text": [
      "('kInd = ', '$ 3.0^{+1.41}_{-1.41} $')\n",
      "('sigmaInd = ', '$ -0.2^{+0.14}_{-0.14} $')\n"
     ]
    }
   ],
   "source": [
    "def compress_1D_pdf(x,pr,ci=68,dp=1):\n",
    "    \n",
    "    # Interpret credible interval request:\n",
    "    low  = (1.0 - ci/100.0)/2.0    # 0.16 for ci=68\n",
    "    high = 1.0 - low               # 0.84 for ci=68\n",
    "\n",
    "    # Find cumulative distribution and compute percentiles:\n",
    "    cumulant = pr.cumsum()\n",
    "    pctlow = x[cumulant>low].min()\n",
    "    median = x[cumulant>0.50].min()\n",
    "    pcthigh = x[cumulant>high].min()\n",
    "    \n",
    "    # Convert to error bars, and format a string:\n",
    "    errplus = np.abs(pcthigh - median)\n",
    "    errminus = np.abs(median - pctlow)\n",
    "    \n",
    "    report = \"$ \"+str(round(median,dp))+\"^{+\"+str(round(errplus,dp))+\"}_{-\"+str(round(errminus,dp))+\"} $\"\n",
    "    \n",
    "    return report\n",
    "\n",
    "print(\"kInd = \",compress_1D_pdf(agrid,prob_kInd_given_data,ci=68,dp=2))\n",
    "\n",
    "print(\"sigmaInd = \",compress_1D_pdf(bgrid,prob_sigmaInd_given_data,ci=68,dp=2))"
   ]
  },
  {
   "cell_type": "code",
   "execution_count": 14,
   "metadata": {
    "collapsed": false
   },
   "outputs": [
    {
     "name": "stdout",
     "output_type": "stream",
     "text": [
      "Running MC for 2000 steps\n",
      "Iteration 0/2500\n",
      "Iteration 100/2500\n",
      "Iteration 200/2500\n",
      "Iteration 300/2500\n",
      "Iteration 400/2500\n",
      "Iteration 500/2500\n",
      "Iteration 600/2500\n",
      "Iteration 700/2500\n",
      "Iteration 800/2500\n",
      "Iteration 900/2500\n",
      "Iteration 1000/2500\n",
      "Iteration 1100/2500\n",
      "Iteration 1200/2500\n",
      "Iteration 1300/2500\n",
      "Iteration 1400/2500\n",
      "Iteration 1500/2500\n",
      "Iteration 1600/2500\n",
      "Iteration 1700/2500\n",
      "Iteration 1800/2500\n",
      "Iteration 1900/2500\n",
      "Iteration 2000/2500\n",
      "Iteration 2100/2500\n",
      "Iteration 2200/2500\n",
      "Iteration 2300/2500\n",
      "Iteration 2400/2500\n",
      "Acceptance fraction: 0.0005\n"
     ]
    }
   ],
   "source": [
    "nRuns = 2000\n",
    "burn=500\n",
    "\n",
    "chain = []\n",
    "probs = []\n",
    "naccept = 0\n",
    "    \n",
    "print 'Running MC for', nRuns, 'steps'\n",
    "\n",
    "\n",
    "nOld,sigmaOld = mcmcStep(annuli,kIndex,sigmaIndex,sigMax)\n",
    "lOld = logPriorNu(kIndex)+logPriorSigma(sigmaIndex)+logLikelihoodNu(nOld,nData)+\\\n",
    "       logLikelihoodSigma(sigmaData,sigmaOld,nOld)+logPriorSigmaNorm(sigMax)\n",
    "\n",
    "kOld = kIndex\n",
    "sIndOld = sigmaIndex\n",
    "sMaxOld = sigMax\n",
    "\n",
    "outputStep = 100\n",
    "\n",
    "for i in range(burn+nRuns):\n",
    "    if i%outputStep==0: \n",
    "        print 'Iteration '+str(i)+'/'+str(burn+nRuns)\n",
    "    kNew = kOld+0.001*np.random.randn()\n",
    "    sIndNew = sIndOld+0.001*np.random.randn()\n",
    "    sMaxNew = sMaxOld+100*np.random.randn()\n",
    "    nMock,sigmaMock = mcmcStep(annuli,kNew,sIndNew,sMaxNew)\n",
    "    lNew=logPriorNu(kNew)+logPriorSigma(sIndNew)+logLikelihoodNu(nMock,nData)+\\\n",
    "         logLikelihoodSigma(sigmaData,sigmaMock,nMock)+logPriorSigmaNorm(sMaxNew)\n",
    "    \n",
    "    #print 'lOld = '+str(lOld)\n",
    "    #print 'lNew = '+str(lNew)\n",
    "    \n",
    "    if ((lNew - lOld) > np.log(np.random.uniform())):\n",
    "        # accept\n",
    "        kOld = kNew\n",
    "        sIndOld = sIndNew\n",
    "        sMaxOld = sMaxNew\n",
    "        lOld = lNew\n",
    "        if (i > burn): #measure acceptance rate after burn-in only\n",
    "            naccept += 1\n",
    "    else:\n",
    "        # Stay where we are; m,b stay the same, and we append them\n",
    "        # to the chain below.\n",
    "        pass\n",
    "\n",
    "    chain.append((kOld,sIndOld,sMaxOld))\n",
    "\n",
    "print 'Acceptance fraction:', naccept/float(nRuns)\n",
    "#return chain[burn_in:]\n",
    "    "
   ]
  },
  {
   "cell_type": "code",
   "execution_count": 15,
   "metadata": {
    "collapsed": false
   },
   "outputs": [
    {
     "data": {
      "image/png": "[encoded data removed]",
      "text/plain": [
       "<matplotlib.figure.Figure at 0x7f21d4ea43d0>"
      ]
     },
     "metadata": {},
     "output_type": "display_data"
    }
   ],
   "source": [
    "import corner\n",
    "corner.corner(chain, labels=['nuIndex','sigmaIndex','sigma0'],quantiles=[0.16,0.5,0.84],\n",
    "                show_titles=True, title_args={\"fontsize\": 12},\n",
    "                plot_datapoints=True, fill_contours=True, levels=[0.68, 0.95], color='b', bins=40, smooth=1.0);\n",
    "plt.show()"
   ]
  },
  {
   "cell_type": "code",
   "execution_count": null,
   "metadata": {
    "collapsed": true
   },
   "outputs": [],
   "source": []
  }
 ],
 "metadata": {
  "kernelspec": {
   "display_name": "Python 2",
   "language": "python",
   "name": "python2"
  },
  "language_info": {
   "codemirror_mode": {
    "name": "ipython",
    "version": 2
   },
   "file_extension": ".py",
   "mimetype": "text/x-python",
   "name": "python",
   "nbconvert_exporter": "python",
   "pygments_lexer": "ipython2",
   "version": "2.7.10"
  }
 },
 "nbformat": 4,
 "nbformat_minor": 0
}
