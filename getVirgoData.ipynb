{
 "cells": [
  {
   "cell_type": "code",
   "execution_count": 1,
   "metadata": {
    "collapsed": true
   },
   "outputs": [],
   "source": [
    "import pandas as pd\n",
    "import math\n",
    "import numpy as np\n",
    "import matplotlib.pyplot as plt\n",
    "import scipy.stats\n",
    "from StringIO import StringIO \n",
    "%matplotlib inline\n",
    "plt.rcParams['figure.figsize'] = (12.0, 12.0) \n"
   ]
  },
  {
   "cell_type": "code",
   "execution_count": 2,
   "metadata": {
    "collapsed": true
   },
   "outputs": [],
   "source": [
    "#define the column start and end points\n",
    "cols=[(0,4),(5,9),(10,15),(16,24),(25,32),(33,41),(42,49),(50,57),(58,64),(65,72),(73,74),(75,76),(77,85),(86,88)]\n",
    "cols+=[(89,92),(93,112),(113,118),(119,124),(125,130),(131,136),(137,142),(143,148),(149,154),(155,160),(161,166)]\n",
    "cols+=[(167,172),(173,179),(180,186)]\n",
    "\n",
    "#read in the data\n",
    "data=pd.read_fwf(\"virgo_data.txt\",colspecs=cols,skiprows=57,header=None)\n",
    "\n",
    "#rename the columns\n",
    "data.rename(columns={0:'idEVC',1:'idVC',2:'ngc',3:'RAdeg',4:'DEdeg',5:'FRAdeg',6:'FDEdeg',7:'Offset'},inplace=True)\n",
    "data.rename(columns={8:'SRvel',9:'NRvel',10:'memIn',11:'memVC',12:'pmorph',13:'smorph',14:'nmorph'},inplace=True)\n",
    "data.rename(columns={15:'vmorph',16:'umag',17:'eumag',18:'gmag',19:'egmag',20:'rmag',21:'ermag'},inplace=True)\n",
    "data.rename(columns={22:'imag',23:'eimag',24:'zmag',25:'ezmag',26:'rad',27:'r50'},inplace=True)\n"
   ]
  },
  {
   "cell_type": "code",
   "execution_count": 20,
   "metadata": {
    "collapsed": true
   },
   "outputs": [],
   "source": [
    "def defineCenter():\n",
    "    '''\n",
    "    Get the center of the cluster, currently taken from NED.\n",
    "    '''\n",
    "    return np.array([187.69708,12.33694])\n",
    "\n",
    "def getDistances(data,center,kpcPerDeg):\n",
    "    '''\n",
    "    Returns distances for the individual galaxies from the cluster center in kpc \n",
    "    using the haversine formula.\n",
    "    \n",
    "    INPUTS:\n",
    "        - a pandas array with ['RAdeg'] and ['DEdeg'] columns for the galaxy positions.\n",
    "        - a numpy array with RA and DEC of the cluster\n",
    "        - conversion factor between kiloparsecs and degrees\n",
    "    \n",
    "    RETURNS:\n",
    "        - a numpy array with distances\n",
    "    '''\n",
    "\n",
    "    dRA = np.radians(data['RAdeg']-center[0])\n",
    "    dDE = np.radians(data['DEdeg']-center[1])\n",
    "    a = np.power(np.sin(dDE/2),2.) + np.cos(np.radians(data['DEdeg'])) \\\n",
    "        *np.cos(np.radians(center[1]))*np.power(np.sin(dRA/2),2.)\n",
    "        \n",
    "    return kpcPerDeg*np.degrees(2*np.arcsin(np.sqrt(a)))\n"
   ]
  },
  {
   "cell_type": "code",
   "execution_count": 21,
   "metadata": {
    "collapsed": false
   },
   "outputs": [
    {
     "name": "stdout",
     "output_type": "stream",
     "text": [
      "(1589, 28)\n"
     ]
    },
    {
     "data": {
      "text/html": [
       "<div>\n",
       "<table border=\"1\" class=\"dataframe\">\n",
       "  <thead>\n",
       "    <tr style=\"text-align: right;\">\n",
       "      <th></th>\n",
       "      <th>idEVC</th>\n",
       "      <th>idVC</th>\n",
       "      <th>RAdeg</th>\n",
       "      <th>DEdeg</th>\n",
       "      <th>FRAdeg</th>\n",
       "      <th>FDEdeg</th>\n",
       "      <th>Offset</th>\n",
       "      <th>SRvel</th>\n",
       "      <th>NRvel</th>\n",
       "      <th>nmorph</th>\n",
       "      <th>...</th>\n",
       "      <th>gmag</th>\n",
       "      <th>egmag</th>\n",
       "      <th>rmag</th>\n",
       "      <th>ermag</th>\n",
       "      <th>imag</th>\n",
       "      <th>eimag</th>\n",
       "      <th>zmag</th>\n",
       "      <th>ezmag</th>\n",
       "      <th>rad</th>\n",
       "      <th>r50</th>\n",
       "    </tr>\n",
       "  </thead>\n",
       "  <tbody>\n",
       "    <tr>\n",
       "      <th>count</th>\n",
       "      <td>1589.000000</td>\n",
       "      <td>913.000000</td>\n",
       "      <td>1589.000000</td>\n",
       "      <td>1589.000000</td>\n",
       "      <td>1324.000000</td>\n",
       "      <td>1324.000000</td>\n",
       "      <td>1324.000000</td>\n",
       "      <td>1324.000000</td>\n",
       "      <td>1153.000000</td>\n",
       "      <td>1589.000000</td>\n",
       "      <td>...</td>\n",
       "      <td>1589.000000</td>\n",
       "      <td>1589.000000</td>\n",
       "      <td>1589.000000</td>\n",
       "      <td>1589.000000</td>\n",
       "      <td>1589.000000</td>\n",
       "      <td>1589.000000</td>\n",
       "      <td>1589.000000</td>\n",
       "      <td>1589.000000</td>\n",
       "      <td>1589.000000</td>\n",
       "      <td>1589.000000</td>\n",
       "    </tr>\n",
       "    <tr>\n",
       "      <th>mean</th>\n",
       "      <td>907.570799</td>\n",
       "      <td>1030.464403</td>\n",
       "      <td>187.193104</td>\n",
       "      <td>9.262071</td>\n",
       "      <td>187.161304</td>\n",
       "      <td>9.764634</td>\n",
       "      <td>2.767591</td>\n",
       "      <td>1392.231949</td>\n",
       "      <td>1473.727754</td>\n",
       "      <td>303.557583</td>\n",
       "      <td>...</td>\n",
       "      <td>15.565721</td>\n",
       "      <td>0.021313</td>\n",
       "      <td>15.069717</td>\n",
       "      <td>0.021446</td>\n",
       "      <td>14.771938</td>\n",
       "      <td>0.021534</td>\n",
       "      <td>14.643656</td>\n",
       "      <td>0.038633</td>\n",
       "      <td>52.583902</td>\n",
       "      <td>12.938320</td>\n",
       "    </tr>\n",
       "    <tr>\n",
       "      <th>std</th>\n",
       "      <td>650.409924</td>\n",
       "      <td>605.943826</td>\n",
       "      <td>4.206295</td>\n",
       "      <td>6.105173</td>\n",
       "      <td>4.152023</td>\n",
       "      <td>5.956675</td>\n",
       "      <td>7.438201</td>\n",
       "      <td>764.773385</td>\n",
       "      <td>2969.529847</td>\n",
       "      <td>89.822866</td>\n",
       "      <td>...</td>\n",
       "      <td>1.979145</td>\n",
       "      <td>0.017085</td>\n",
       "      <td>2.055478</td>\n",
       "      <td>0.009658</td>\n",
       "      <td>2.097612</td>\n",
       "      <td>0.010262</td>\n",
       "      <td>2.161827</td>\n",
       "      <td>0.057276</td>\n",
       "      <td>47.720349</td>\n",
       "      <td>10.503226</td>\n",
       "    </tr>\n",
       "    <tr>\n",
       "      <th>min</th>\n",
       "      <td>1.000000</td>\n",
       "      <td>1.000000</td>\n",
       "      <td>175.077100</td>\n",
       "      <td>-4.579600</td>\n",
       "      <td>175.077100</td>\n",
       "      <td>-3.682400</td>\n",
       "      <td>0.000000</td>\n",
       "      <td>-745.000000</td>\n",
       "      <td>-730.500000</td>\n",
       "      <td>100.000000</td>\n",
       "      <td>...</td>\n",
       "      <td>8.980000</td>\n",
       "      <td>0.020000</td>\n",
       "      <td>8.280000</td>\n",
       "      <td>0.020000</td>\n",
       "      <td>7.840000</td>\n",
       "      <td>0.020000</td>\n",
       "      <td>7.600000</td>\n",
       "      <td>0.031000</td>\n",
       "      <td>4.980000</td>\n",
       "      <td>0.850000</td>\n",
       "    </tr>\n",
       "    <tr>\n",
       "      <th>25%</th>\n",
       "      <td>398.000000</td>\n",
       "      <td>491.000000</td>\n",
       "      <td>184.841100</td>\n",
       "      <td>5.283700</td>\n",
       "      <td>184.813425</td>\n",
       "      <td>5.765700</td>\n",
       "      <td>0.241400</td>\n",
       "      <td>902.325000</td>\n",
       "      <td>894.300000</td>\n",
       "      <td>207.000000</td>\n",
       "      <td>...</td>\n",
       "      <td>14.370000</td>\n",
       "      <td>0.020000</td>\n",
       "      <td>13.870000</td>\n",
       "      <td>0.020000</td>\n",
       "      <td>13.570000</td>\n",
       "      <td>0.020000</td>\n",
       "      <td>13.380000</td>\n",
       "      <td>0.031000</td>\n",
       "      <td>24.050000</td>\n",
       "      <td>6.270000</td>\n",
       "    </tr>\n",
       "    <tr>\n",
       "      <th>50%</th>\n",
       "      <td>795.000000</td>\n",
       "      <td>1011.000000</td>\n",
       "      <td>186.942900</td>\n",
       "      <td>9.879000</td>\n",
       "      <td>186.870550</td>\n",
       "      <td>10.344800</td>\n",
       "      <td>0.652500</td>\n",
       "      <td>1310.250000</td>\n",
       "      <td>1306.800000</td>\n",
       "      <td>300.000000</td>\n",
       "      <td>...</td>\n",
       "      <td>15.940000</td>\n",
       "      <td>0.021000</td>\n",
       "      <td>15.460000</td>\n",
       "      <td>0.021000</td>\n",
       "      <td>15.140000</td>\n",
       "      <td>0.021000</td>\n",
       "      <td>15.000000</td>\n",
       "      <td>0.032000</td>\n",
       "      <td>38.600000</td>\n",
       "      <td>10.160000</td>\n",
       "    </tr>\n",
       "    <tr>\n",
       "      <th>75%</th>\n",
       "      <td>1192.000000</td>\n",
       "      <td>1554.000000</td>\n",
       "      <td>189.830300</td>\n",
       "      <td>13.322500</td>\n",
       "      <td>189.799550</td>\n",
       "      <td>13.581700</td>\n",
       "      <td>1.808575</td>\n",
       "      <td>1988.675000</td>\n",
       "      <td>1972.500000</td>\n",
       "      <td>401.000000</td>\n",
       "      <td>...</td>\n",
       "      <td>17.120000</td>\n",
       "      <td>0.021000</td>\n",
       "      <td>16.700000</td>\n",
       "      <td>0.021000</td>\n",
       "      <td>16.400000</td>\n",
       "      <td>0.021000</td>\n",
       "      <td>16.320000</td>\n",
       "      <td>0.036000</td>\n",
       "      <td>63.910000</td>\n",
       "      <td>16.280000</td>\n",
       "    </tr>\n",
       "    <tr>\n",
       "      <th>max</th>\n",
       "      <td>2264.000000</td>\n",
       "      <td>2095.000000</td>\n",
       "      <td>199.589000</td>\n",
       "      <td>24.921000</td>\n",
       "      <td>199.531600</td>\n",
       "      <td>24.923000</td>\n",
       "      <td>86.492300</td>\n",
       "      <td>2982.400000</td>\n",
       "      <td>98609.100000</td>\n",
       "      <td>411.000000</td>\n",
       "      <td>...</td>\n",
       "      <td>20.630000</td>\n",
       "      <td>0.653000</td>\n",
       "      <td>20.560000</td>\n",
       "      <td>0.346000</td>\n",
       "      <td>19.670000</td>\n",
       "      <td>0.327000</td>\n",
       "      <td>19.620000</td>\n",
       "      <td>1.621000</td>\n",
       "      <td>476.730000</td>\n",
       "      <td>101.240000</td>\n",
       "    </tr>\n",
       "  </tbody>\n",
       "</table>\n",
       "<p>8 rows × 22 columns</p>\n",
       "</div>"
      ],
      "text/plain": [
       "             idEVC         idVC        RAdeg        DEdeg       FRAdeg  \\\n",
       "count  1589.000000   913.000000  1589.000000  1589.000000  1324.000000   \n",
       "mean    907.570799  1030.464403   187.193104     9.262071   187.161304   \n",
       "std     650.409924   605.943826     4.206295     6.105173     4.152023   \n",
       "min       1.000000     1.000000   175.077100    -4.579600   175.077100   \n",
       "25%     398.000000   491.000000   184.841100     5.283700   184.813425   \n",
       "50%     795.000000  1011.000000   186.942900     9.879000   186.870550   \n",
       "75%    1192.000000  1554.000000   189.830300    13.322500   189.799550   \n",
       "max    2264.000000  2095.000000   199.589000    24.921000   199.531600   \n",
       "\n",
       "            FDEdeg       Offset        SRvel         NRvel       nmorph  \\\n",
       "count  1324.000000  1324.000000  1324.000000   1153.000000  1589.000000   \n",
       "mean      9.764634     2.767591  1392.231949   1473.727754   303.557583   \n",
       "std       5.956675     7.438201   764.773385   2969.529847    89.822866   \n",
       "min      -3.682400     0.000000  -745.000000   -730.500000   100.000000   \n",
       "25%       5.765700     0.241400   902.325000    894.300000   207.000000   \n",
       "50%      10.344800     0.652500  1310.250000   1306.800000   300.000000   \n",
       "75%      13.581700     1.808575  1988.675000   1972.500000   401.000000   \n",
       "max      24.923000    86.492300  2982.400000  98609.100000   411.000000   \n",
       "\n",
       "          ...              gmag        egmag         rmag        ermag  \\\n",
       "count     ...       1589.000000  1589.000000  1589.000000  1589.000000   \n",
       "mean      ...         15.565721     0.021313    15.069717     0.021446   \n",
       "std       ...          1.979145     0.017085     2.055478     0.009658   \n",
       "min       ...          8.980000     0.020000     8.280000     0.020000   \n",
       "25%       ...         14.370000     0.020000    13.870000     0.020000   \n",
       "50%       ...         15.940000     0.021000    15.460000     0.021000   \n",
       "75%       ...         17.120000     0.021000    16.700000     0.021000   \n",
       "max       ...         20.630000     0.653000    20.560000     0.346000   \n",
       "\n",
       "              imag        eimag         zmag        ezmag          rad  \\\n",
       "count  1589.000000  1589.000000  1589.000000  1589.000000  1589.000000   \n",
       "mean     14.771938     0.021534    14.643656     0.038633    52.583902   \n",
       "std       2.097612     0.010262     2.161827     0.057276    47.720349   \n",
       "min       7.840000     0.020000     7.600000     0.031000     4.980000   \n",
       "25%      13.570000     0.020000    13.380000     0.031000    24.050000   \n",
       "50%      15.140000     0.021000    15.000000     0.032000    38.600000   \n",
       "75%      16.400000     0.021000    16.320000     0.036000    63.910000   \n",
       "max      19.670000     0.327000    19.620000     1.621000   476.730000   \n",
       "\n",
       "               r50  \n",
       "count  1589.000000  \n",
       "mean     12.938320  \n",
       "std      10.503226  \n",
       "min       0.850000  \n",
       "25%       6.270000  \n",
       "50%      10.160000  \n",
       "75%      16.280000  \n",
       "max     101.240000  \n",
       "\n",
       "[8 rows x 22 columns]"
      ]
     },
     "execution_count": 21,
     "metadata": {},
     "output_type": "execute_result"
    }
   ],
   "source": [
    "print data.shape\n",
    "data.describe()"
   ]
  },
  {
   "cell_type": "code",
   "execution_count": 40,
   "metadata": {
    "collapsed": false
   },
   "outputs": [
    {
     "data": {
      "text/plain": [
       "(1324, 28)"
      ]
     },
     "execution_count": 40,
     "metadata": {},
     "output_type": "execute_result"
    }
   ],
   "source": [
    "dataNoNaN=data.dropna(subset=['SRvel'])\n",
    "dataNoNaN.shape"
   ]
  },
  {
   "cell_type": "code",
   "execution_count": 41,
   "metadata": {
    "collapsed": false
   },
   "outputs": [],
   "source": [
    "dataM=dataNoNaN.loc[dataNoNaN['memIn'].isin(['M'])]"
   ]
  },
  {
   "cell_type": "code",
   "execution_count": 42,
   "metadata": {
    "collapsed": true
   },
   "outputs": [],
   "source": [
    "virgoDataM=pd.DataFrame(data={'r':getDistances(dataM,defineCenter(),266.4),\\\n",
    "                             'vobs':dataM['SRvel']})"
   ]
  },
  {
   "cell_type": "code",
   "execution_count": 43,
   "metadata": {
    "collapsed": false
   },
   "outputs": [],
   "source": [
    "virgoData=pd.DataFrame(data={'r':getDistances(dataNoNaN,defineCenter(),266.4),\\\n",
    "                             'vobs':dataNoNaN['SRvel']})"
   ]
  },
  {
   "cell_type": "code",
   "execution_count": 45,
   "metadata": {
    "collapsed": false
   },
   "outputs": [],
   "source": [
    "virgoDataM.to_csv('virgoDataMembers.csv')\n",
    "virgoData.to_csv('virgoData.csv')"
   ]
  },
  {
   "cell_type": "code",
   "execution_count": 28,
   "metadata": {
    "collapsed": false
   },
   "outputs": [
    {
     "data": {
      "text/plain": [
       "<matplotlib.text.Text at 0x7f51dddceb10>"
      ]
     },
     "execution_count": 28,
     "metadata": {},
     "output_type": "execute_result"
    },
    {
     "data": {
      "image/png": "[encoded data removed]",
      "text/plain": [
       "<matplotlib.figure.Figure at 0x7f51dde315d0>"
      ]
     },
     "metadata": {},
     "output_type": "display_data"
    }
   ],
   "source": [
    "virgoData.hist(['r'])\n",
    "plt.xlabel('r (kpc)')\n",
    "plt.ylabel('count')"
   ]
  },
  {
   "cell_type": "code",
   "execution_count": null,
   "metadata": {
    "collapsed": true
   },
   "outputs": [],
   "source": []
  }
 ],
 "metadata": {
  "kernelspec": {
   "display_name": "Python 2",
   "language": "python",
   "name": "python2"
  },
  "language_info": {
   "codemirror_mode": {
    "name": "ipython",
    "version": 2
   },
   "file_extension": ".py",
   "mimetype": "text/x-python",
   "name": "python",
   "nbconvert_exporter": "python",
   "pygments_lexer": "ipython2",
   "version": "2.7.10"
  }
 },
 "nbformat": 4,
 "nbformat_minor": 0
}
