{
 "cells": [
  {
   "cell_type": "code",
   "execution_count": 2,
   "metadata": {
    "collapsed": true
   },
   "outputs": [],
   "source": [
    "import numpy as np\n",
    "from scipy import stats\n",
    "import matplotlib.pyplot as plt\n",
    "\n",
    "%matplotlib inline"
   ]
  },
  {
   "cell_type": "code",
   "execution_count": 15,
   "metadata": {
    "collapsed": false
   },
   "outputs": [
    {
     "name": "stdout",
     "output_type": "stream",
     "text": [
      "log spaced bins\n",
      "[   10.            15.84893192    25.11886432    39.81071706    63.09573445\n",
      "   100.           158.48931925   251.18864315   398.10717055   630.95734448\n",
      "  1000.        ]\n",
      "27.1464828353\n",
      "[9 9 8 8 8 7 7 7 6 6]\n",
      "27.1464828353\n",
      "75\n",
      "lin spaces bins\n",
      "[   10.   109.   208.   307.   406.   505.   604.   703.   802.   901.\n",
      "  1000.]\n",
      "27.1464828353\n",
      "[45 10  6  4  3  2  2  1  1  1]\n",
      "27.1464828353\n",
      "75\n"
     ]
    }
   ],
   "source": [
    "def nuInt(x, k):\n",
    "    #print ((k-1)*((k**2-6*k+6.)))\n",
    "    #print ((k**2-3*k+2)*np.power(x,2)+2*(k-1.)*x+2)\n",
    "    #return -np.power((x+1.), (1-k))*((k**2-3.*k+2)*np.power(x,2)+2*(k-1.)*x+2)/((k-1.)*(k**2-5*k+6.))\n",
    "    #this is assuming k=-3 \n",
    "    #return -1./(2.*(r_lim+1.)**2)\n",
    "    return np.power(x,3-k)/(3-k)\n",
    "\n",
    "def nuProfile(Ntot,radii,k=2.9m):\n",
    "    nu0 = Ntot / (4.*np.pi*(nuInt(radii[-1], k)-nuInt(radii[0], k)))\n",
    "    print nu0\n",
    "    #print 'nu0:' ,nu0\n",
    "    return (nu0*(nuInt(radii[1:],k) - nuInt(radii[:-1],k))).astype(int)\n",
    "\n",
    "#radii = np.append(0.,np.logspace(1.,3.,11))\n",
    "radii = np.logspace(1.,3.,11)\n",
    "#plt.xscale('log')\n",
    "#plt.yscale('log')\n",
    "#plt.plot(radii[1:],nuProfile(1000,radii),'b+')\n",
    "print \"log spaced bins\"\n",
    "print radii\n",
    "print nuProfile(1000,radii)\n",
    "print np.sum(nuProfile(1000,radii))\n",
    "radii_lin = np.linspace(10,1000, 11)\n",
    "print \"lin spaces bins\"\n",
    "print radii_lin\n",
    "print nuProfile(1000,radii_lin)\n",
    "print np.sum(nuProfile(1000,radii_lin))\n",
    "\n",
    "# here I conclude that the logspace is not ideal - if we want nicer bins, we should create ones that\n",
    "# sample the volume in a log way - so that our sample is equally spread out \n"
   ]
  },
  {
   "cell_type": "code",
   "execution_count": 36,
   "metadata": {
    "collapsed": false
   },
   "outputs": [
    {
     "name": "stdout",
     "output_type": "stream",
     "text": [
      "[  1.00000000e+00   2.58259287e+00   6.14301895e+00   1.36358662e+01\n",
      "   2.85362998e+01   5.67608209e+01   1.08013279e+02   1.97700912e+02\n",
      "   3.49599450e+02   5.99485613e+02   1.00000000e+03]\n"
     ]
    }
   ],
   "source": [
    "def defineRadii(nTot=1000.,rOut=1000.,nAnn=10,k=2.9):\n",
    "    radii = np.array([1.])\n",
    "    nu0 = nTot*(3.-k)/(4*np.pi*(rOut**(3.-k)-1.))\n",
    "    c = (3-k)*nTot/(4*np.pi*nu0*nAnn)\n",
    "    for i in range(nAnn):\n",
    "        radii = np.append(radii,(c+radii[i]**(3-k))**(1./(3-k)))\n",
    "    return radii\n",
    "    \n",
    "print defineRadii()"
   ]
  },
  {
   "cell_type": "code",
   "execution_count": 27,
   "metadata": {
    "collapsed": false
   },
   "outputs": [
    {
     "data": {
      "text/plain": [
       "[<matplotlib.lines.Line2D at 0x4976290>]"
      ]
     },
     "execution_count": 27,
     "metadata": {},
     "output_type": "execute_result"
    },
    {
     "data": {
      "image/png": "[encoded data removed]",
      "text/plain": [
       "<matplotlib.figure.Figure at 0x4c4e290>"
      ]
     },
     "metadata": {},
     "output_type": "display_data"
    }
   ],
   "source": [
    "def sigmaProfile(radii,sigMax=1000,k=-.2):\n",
    "    \n",
    "    return sigMax*(1.+0.5*(radii[1:]+radii[:-1]))**k\n",
    "\n",
    "plt.plot(1.+0.5*(radii[1:]+radii[:-1]),sigmaProfile(radii))"
   ]
  },
  {
   "cell_type": "code",
   "execution_count": 30,
   "metadata": {
    "collapsed": true
   },
   "outputs": [],
   "source": [
    "def createMockData(radii,Ntot=1000,sigMax=1000,kindex=-3,sigmaindex=-0.2): #total Ngals, no of shells\n",
    "    clusterData = np.zeros((2*Ntot,5))\n",
    "    counter=0\n",
    "    density = nuProfile(Ntot,radii,k=kindex)\n",
    "    sig = sigmaProfile(radii,sigMax=1000,k=sigmaindex)\n",
    "    \n",
    "    for shell,dens in enumerate(density):\n",
    "        #generate positions\n",
    "        phi = np.random.uniform(0.,2*np.pi,dens)\n",
    "        cosTheta = np.random.uniform(-1,1,dens)\n",
    "        theta = np.arccos(cosTheta)\n",
    "        u = np.random.uniform(radii[shell]**3,radii[shell+1]**3,dens) #cuberoot([rin,rout])\n",
    "        r = np.power(u,1./3)\n",
    "        \n",
    "        x = r*np.sin(theta)*np.cos(phi)\n",
    "        y = r*np.sin(theta)*np.sin(phi)\n",
    "        z = r*cosTheta\n",
    "        \n",
    "        #generate velocities\n",
    "        \n",
    "        speed = sig[shell]*np.random.randn(dens)\n",
    "        #phi = np.random.uniform(0.,2*np.pi,dens)\n",
    "        cosTheta = np.random.uniform(-1,1,dens)\n",
    "        #theta = np.arccos(cosTheta)\n",
    "        \n",
    "        v=speed*cosTheta   \n",
    "        \n",
    "        #replace with vstack,append\n",
    "        clusterData[counter:counter+dens]=np.hstack((shell*np.ones(dens).reshape((dens,1)),x.reshape((dens,1)),y.reshape((dens,1)),z.reshape((dens,1)),v.reshape((dens,1))))\n",
    "        counter += dens\n",
    "    \n",
    "    print counter\n",
    "    return clusterData[:counter],density,sig"
   ]
  },
  {
   "cell_type": "code",
   "execution_count": 31,
   "metadata": {
    "collapsed": false
   },
   "outputs": [
    {
     "name": "stdout",
     "output_type": "stream",
     "text": [
      "1101\n",
      "[  0.01         0.01995262   0.03981072   0.07943282   0.15848932\n",
      "   0.31622777   0.63095734   1.25892541   2.51188643   5.01187234  10.        ]\n"
     ]
    },
    {
     "data": {
      "text/plain": [
       "<matplotlib.collections.PathCollection at 0x563f0d0>"
      ]
     },
     "execution_count": 31,
     "metadata": {},
     "output_type": "execute_result"
    },
    {
     "data": {
      "image/png": "[encoded data removed]",
      "text/plain": [
       "<matplotlib.figure.Figure at 0x59c8150>"
      ]
     },
     "metadata": {},
     "output_type": "display_data"
    }
   ],
   "source": [
    "cluster,density,sigma = createMockData(np.append(0,np.logspace(-2,1,11)))\n",
    "\n",
    "print np.logspace(-2,1,11)\n",
    "\n",
    "plt.scatter(cluster[:,1],cluster[:,2],s=np.fabs(cluster[:4])/5)"
   ]
  },
  {
   "cell_type": "code",
   "execution_count": 32,
   "metadata": {
    "collapsed": false
   },
   "outputs": [
    {
     "data": {
      "text/html": [
       "<div>\n",
       "<table border=\"1\" class=\"dataframe\">\n",
       "  <thead>\n",
       "    <tr style=\"text-align: right;\">\n",
       "      <th></th>\n",
       "      <th>0</th>\n",
       "      <th>1</th>\n",
       "      <th>2</th>\n",
       "      <th>3</th>\n",
       "      <th>4</th>\n",
       "    </tr>\n",
       "  </thead>\n",
       "  <tbody>\n",
       "    <tr>\n",
       "      <th>count</th>\n",
       "      <td>1101.000000</td>\n",
       "      <td>1101.000000</td>\n",
       "      <td>1101.000000</td>\n",
       "      <td>1101.000000</td>\n",
       "      <td>1101.000000</td>\n",
       "    </tr>\n",
       "    <tr>\n",
       "      <th>mean</th>\n",
       "      <td>5.695731</td>\n",
       "      <td>0.028912</td>\n",
       "      <td>0.029433</td>\n",
       "      <td>0.037872</td>\n",
       "      <td>-5.632199</td>\n",
       "    </tr>\n",
       "    <tr>\n",
       "      <th>std</th>\n",
       "      <td>2.079132</td>\n",
       "      <td>1.078597</td>\n",
       "      <td>0.980062</td>\n",
       "      <td>0.954365</td>\n",
       "      <td>525.847828</td>\n",
       "    </tr>\n",
       "    <tr>\n",
       "      <th>min</th>\n",
       "      <td>0.000000</td>\n",
       "      <td>-7.585694</td>\n",
       "      <td>-7.151037</td>\n",
       "      <td>-7.848254</td>\n",
       "      <td>-2087.923546</td>\n",
       "    </tr>\n",
       "    <tr>\n",
       "      <th>25%</th>\n",
       "      <td>4.000000</td>\n",
       "      <td>-0.182506</td>\n",
       "      <td>-0.158961</td>\n",
       "      <td>-0.180954</td>\n",
       "      <td>-231.613649</td>\n",
       "    </tr>\n",
       "    <tr>\n",
       "      <th>50%</th>\n",
       "      <td>6.000000</td>\n",
       "      <td>-0.002792</td>\n",
       "      <td>0.004527</td>\n",
       "      <td>-0.002512</td>\n",
       "      <td>-7.440003</td>\n",
       "    </tr>\n",
       "    <tr>\n",
       "      <th>75%</th>\n",
       "      <td>7.000000</td>\n",
       "      <td>0.158644</td>\n",
       "      <td>0.185548</td>\n",
       "      <td>0.196845</td>\n",
       "      <td>212.585200</td>\n",
       "    </tr>\n",
       "    <tr>\n",
       "      <th>max</th>\n",
       "      <td>10.000000</td>\n",
       "      <td>9.350571</td>\n",
       "      <td>7.673212</td>\n",
       "      <td>8.496440</td>\n",
       "      <td>2930.312825</td>\n",
       "    </tr>\n",
       "  </tbody>\n",
       "</table>\n",
       "</div>"
      ],
      "text/plain": [
       "                 0            1            2            3            4\n",
       "count  1101.000000  1101.000000  1101.000000  1101.000000  1101.000000\n",
       "mean      5.695731     0.028912     0.029433     0.037872    -5.632199\n",
       "std       2.079132     1.078597     0.980062     0.954365   525.847828\n",
       "min       0.000000    -7.585694    -7.151037    -7.848254 -2087.923546\n",
       "25%       4.000000    -0.182506    -0.158961    -0.180954  -231.613649\n",
       "50%       6.000000    -0.002792     0.004527    -0.002512    -7.440003\n",
       "75%       7.000000     0.158644     0.185548     0.196845   212.585200\n",
       "max      10.000000     9.350571     7.673212     8.496440  2930.312825"
      ]
     },
     "execution_count": 32,
     "metadata": {},
     "output_type": "execute_result"
    }
   ],
   "source": [
    "import pandas as pd\n",
    "\n",
    "clusterPd = pd.DataFrame(cluster)\n",
    "\n",
    "clusterPd.describe()"
   ]
  },
  {
   "cell_type": "code",
   "execution_count": 33,
   "metadata": {
    "collapsed": false
   },
   "outputs": [],
   "source": [
    "#clusterPd.to_csv('mock_cluster.csv')\n",
    "clusterPd.to_csv('mock_cluster_2.csv')"
   ]
  },
  {
   "cell_type": "code",
   "execution_count": null,
   "metadata": {
    "collapsed": true
   },
   "outputs": [],
   "source": []
  }
 ],
 "metadata": {
  "kernelspec": {
   "display_name": "Python 2",
   "language": "python",
   "name": "python2"
  },
  "language_info": {
   "codemirror_mode": {
    "name": "ipython",
    "version": 2
   },
   "file_extension": ".py",
   "mimetype": "text/x-python",
   "name": "python",
   "nbconvert_exporter": "python",
   "pygments_lexer": "ipython2",
   "version": "2.7.10"
  }
 },
 "nbformat": 4,
 "nbformat_minor": 0
}
