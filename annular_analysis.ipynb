{
 "cells": [
  {
   "cell_type": "code",
   "execution_count": 69,
   "metadata": {
    "collapsed": true
   },
   "outputs": [],
   "source": [
    "import numpy as np\n",
    "import matplotlib.pyplot as plt\n",
    "import pandas as pd\n",
    "from scipy import stats\n",
    "\n",
    "% matplotlib inline"
   ]
  },
  {
   "cell_type": "code",
   "execution_count": 70,
   "metadata": {
    "collapsed": true
   },
   "outputs": [],
   "source": [
    "def defineAnnuli(r,nAnn):\n",
    "    return np.append(0,np.sort(r)[np.linspace(0,len(r)-1,nAnn).astype(int)][1:])\n",
    "\n",
    "def labelGalaxies(data,annuli):\n",
    "    #adds a column to data indicating the galaxy's membership in an annulus\n",
    "    bla = np.zeros(len(data['r']))\n",
    "    for i in range(len(annuli)-1):\n",
    "        bla += i*np.array(np.logical_and(data['r']>annuli[i],data['r']<=annuli[i+1]).astype(int))\n",
    "    return bla\n",
    "\n",
    "def galInAnn(data,annuli):\n",
    "    #calculates the number of galaxies in all the annuli\n",
    "    return np.array([(data['annuli']==i).sum() for i in range(len(annuli)-1)])\n",
    "\n",
    "def sigInAnn(data,annuli):\n",
    "    return [np.std(data['vobs'][data['annuli']==i]) for i in range(len(annuli)-1)]\n",
    "\n"
   ]
  },
  {
   "cell_type": "code",
   "execution_count": 71,
   "metadata": {
    "collapsed": false
   },
   "outputs": [
    {
     "name": "stdout",
     "output_type": "stream",
     "text": [
      "[111 110 111 110 110 111 110 110 111]\n",
      "[1101.230711133204, 978.8851193388302, 892.4168507756079, 670.3298668814153, 640.2207695327382, 598.3845099834416, 551.6151892055345, 504.1988352731031, 418.54940143523453]\n"
     ]
    }
   ],
   "source": [
    "data=pd.read_csv('mock_cluster.csv')\n",
    "data.rename(columns={'Unnamed: 0':'id','0':'origAnn','1':'x','2':'y','3':'z','4':'vobs'},inplace=True)\n",
    "\n",
    "data['r'] = np.power(np.power(data['x'],2.)+np.power(data['y'],2.),0.5)\n",
    "\n",
    "nAnn = 10 #number of desired annuli\n",
    "annuli = defineAnnuli(data['r'],nAnn) \n",
    "\n",
    "#summarize the true data\n",
    "\n",
    "# number of galaxies per annulus\n",
    "    \n",
    "data['annuli']=labelGalaxies(data,annuli)\n",
    "N = galInAnn(data,annuli)\n",
    "sigma = sigInAnn(data,annuli)\n",
    "\n",
    "print N\n",
    "print sigma"
   ]
  },
  {
   "cell_type": "code",
   "execution_count": 72,
   "metadata": {
    "collapsed": true
   },
   "outputs": [],
   "source": [
    "def nuProfile(Ntot,radii,k=-3.):\n",
    "    nu0 = Ntot*k/((1+radii[-1])**(k+1)-1)\n",
    "    return (nu0*((1+radii[1:])**(k+1)-(1+radii[:-1])**(k+1))/k).astype(int)\n",
    "\n",
    "def sigmaProfile(radii,sigMax=1000,k=-.2):\n",
    "    return sigMax*(0.5*(radii[1:]+radii[:-1]))**k"
   ]
  },
  {
   "cell_type": "code",
   "execution_count": 123,
   "metadata": {
    "collapsed": true
   },
   "outputs": [],
   "source": [
    "def createMockData(radii,Ntot=1000,sigMax=1000,kindex=-3,sigmaindex=-0.2): #total Ngals, no of shells\n",
    "    clusterData = np.zeros((2*Ntot,2))\n",
    "    counter=0\n",
    "    density = nuProfile(Ntot,radii,k=kindex)\n",
    "    sig = sigmaProfile(radii,sigMax,k=sigmaindex)\n",
    "    \n",
    "    for shell,dens in enumerate(np.random.poisson(density)):\n",
    "        #generate positions\n",
    "        phi = np.random.uniform(0.,2*np.pi,dens)\n",
    "        cosTheta = np.random.uniform(-1,1,dens)\n",
    "        theta = np.arccos(cosTheta)\n",
    "        u = np.random.uniform(radii[shell]**3,radii[shell+1]**3,dens) #cuberoot([rin,rout])\n",
    "        r = np.power(u,1./3)\n",
    "        \n",
    "        x = r*np.sin(theta)*np.cos(phi)\n",
    "        y = r*np.sin(theta)*np.sin(phi)\n",
    "        z = r*cosTheta\n",
    "        \n",
    "        r = np.power(np.power(x,2.)+np.power(x,2.),0.5)\n",
    "        #generate velocities\n",
    "        \n",
    "        speed = sig[shell]*np.random.randn(dens)\n",
    "        #phi = np.random.uniform(0.,2*np.pi,dens)\n",
    "        cosTheta = np.random.uniform(-1,1,dens)\n",
    "        #theta = np.arccos(cosTheta)\n",
    "        \n",
    "        v=speed*cosTheta\n",
    "        \n",
    "        #replace with vstack,append\n",
    "        clusterData[counter:counter+dens]=np.hstack((r.reshape((dens,1)),v.reshape((dens,1))))\n",
    "        counter += dens\n",
    "    \n",
    "    print 'Created mock data with '+str(counter)+' galaxies.'\n",
    "    return pd.DataFrame(clusterData[:counter],columns=['r','vobs'])"
   ]
  },
  {
   "cell_type": "code",
   "execution_count": 128,
   "metadata": {
    "collapsed": false
   },
   "outputs": [
    {
     "name": "stdout",
     "output_type": "stream",
     "text": [
      "Created mock data with 1035 galaxies.\n",
      "[218 112 115 117 126  66  97  76 108]\n",
      "[916.5182504241521, 695.8228627606603, 699.9997985885665, 783.0581612163897, 766.4275798727011, 697.3522563943602, 564.5563620259313, 632.9823675709375, 390.2067777227221]\n"
     ]
    }
   ],
   "source": [
    "kIndex = -3\n",
    "sigmaIndex = -0.2\n",
    "sigMax = 1000\n",
    "\n",
    "mockData = createMockData(annuli,len(data['r']),sigMax,kIndex,sigmaIndex)\n",
    "mockData['annuli'] = labelGalaxies(mockData,annuli)\n",
    "mockN = galInAnn(mockData,annuli)\n",
    "mockSigma = sigInAnn(mockData,annuli)\n",
    "\n",
    "print mockN\n",
    "print mockSigma"
   ]
  },
  {
   "cell_type": "code",
   "execution_count": 127,
   "metadata": {
    "collapsed": false
   },
   "outputs": [
    {
     "name": "stdout",
     "output_type": "stream",
     "text": [
      "Created mock data with 2069 galaxies.\n",
      "Created mock data with 2014 galaxies.\n",
      "Created mock data with 1918 galaxies.\n",
      "Created mock data with 1928 galaxies.\n",
      "Created mock data with 2016 galaxies.\n",
      "Created mock data with 1987 galaxies.\n",
      "100 loops, best of 3: 17.6 ms per loop\n"
     ]
    }
   ],
   "source": []
  },
  {
   "cell_type": "code",
   "execution_count": null,
   "metadata": {
    "collapsed": true
   },
   "outputs": [],
   "source": []
  }
 ],
 "metadata": {
  "kernelspec": {
   "display_name": "Python 2",
   "language": "python",
   "name": "python2"
  },
  "language_info": {
   "codemirror_mode": {
    "name": "ipython",
    "version": 2
   },
   "file_extension": ".py",
   "mimetype": "text/x-python",
   "name": "python",
   "nbconvert_exporter": "python",
   "pygments_lexer": "ipython2",
   "version": "2.7.10"
  }
 },
 "nbformat": 4,
 "nbformat_minor": 0
}
