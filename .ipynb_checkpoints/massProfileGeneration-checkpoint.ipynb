{
 "cells": [
  {
   "cell_type": "code",
   "execution_count": 40,
   "metadata": {
    "collapsed": true
   },
   "outputs": [],
   "source": [
    "import numpy as np\n",
    "import matplotlib.pyplot as plt\n",
    "import seaborn as sns\n",
    "import pandas as pd\n",
    "\n",
    "sns.set_style('ticks',  {'font.family': 'sans-serif'})\n",
    "sns.set_context(\"talk\")\n",
    "#deep, muted, pastel, bright, dark, colorblind\n",
    "sns.set_palette('deep')\n",
    "\n",
    "current_palette = sns.color_palette()\n",
    "\n",
    "blue = current_palette[0]\n",
    "green =current_palette[1]\n",
    "red = current_palette[2]\n",
    "purple = current_palette[3]\n",
    "orange = current_palette[4]\n",
    "l_blue = current_palette[5]\n",
    "\n",
    "%matplotlib inline"
   ]
  },
  {
   "cell_type": "code",
   "execution_count": 41,
   "metadata": {
    "collapsed": false
   },
   "outputs": [
    {
     "name": "stdout",
     "output_type": "stream",
     "text": [
      "(6000, 5)\n"
     ]
    }
   ],
   "source": [
    "chainName = 'chain_conMock0_6000steps.npy'\n",
    "#chainName = 'chain_conMock5_6000steps.npy'\n",
    "\n",
    "chain = np.load(chainName)\n",
    "print chain.shape"
   ]
  },
  {
   "cell_type": "code",
   "execution_count": null,
   "metadata": {
    "collapsed": false
   },
   "outputs": [],
   "source": [
    "radii = np.logspace(0,3,20)\n",
    "\n",
    "def generateMassProfile(radii,sigma0,m,k):\n",
    "    return -radii*(sigma0*radii**(-m))**2*(-k-m)\n",
    "\n",
    "for i in chain[4999:5000]:\n",
    "    plt.plot(radii,generateMassProfile(radii,i[2],i[3],i[1]),color=blue,label='MCMC')\n",
    "\n",
    "for i in chain[5000:]:\n",
    "    plt.plot(radii,generateMassProfile(radii,i[2],i[3],i[1]),alpha=0.01,color=blue)\n",
    "\n",
    "plt.plot(radii,generateMassProfile(radii,1000,0.2,3),'k-',lw=2,label='input')\n",
    "\n",
    "plt.xscale('log')\n",
    "plt.yscale('log')\n",
    "plt.xlabel('radius')\n",
    "plt.legend(loc='upper left')\n",
    "plt.ylabel('mass (arb. units)')\n",
    "plt.title('Mass for mockCluster0')\n",
    "\n",
    "plt.savefig('massMock0.png',dpi=300,bbox_inches='tight',pad_inches=0.2)"
   ]
  },
  {
   "cell_type": "code",
   "execution_count": 30,
   "metadata": {
    "collapsed": false
   },
   "outputs": [
    {
     "ename": "ValueError",
     "evalue": "total size of new array must be unchanged",
     "output_type": "error",
     "traceback": [
      "\u001b[1;31m---------------------------------------------------------------------------\u001b[0m",
      "\u001b[1;31mValueError\u001b[0m                                Traceback (most recent call last)",
      "\u001b[1;32m<ipython-input-30-5d6a5785a26e>\u001b[0m in \u001b[0;36m<module>\u001b[1;34m()\u001b[0m\n\u001b[1;32m----> 1\u001b[1;33m \u001b[0mchain\u001b[0m\u001b[1;33m.\u001b[0m\u001b[0mreshape\u001b[0m\u001b[1;33m(\u001b[0m\u001b[1;33m(\u001b[0m\u001b[1;36m30\u001b[0m\u001b[1;33m,\u001b[0m\u001b[1;36m200\u001b[0m\u001b[1;33m,\u001b[0m\u001b[1;36m5\u001b[0m\u001b[1;33m)\u001b[0m\u001b[1;33m)\u001b[0m\u001b[1;33m\u001b[0m\u001b[0m\n\u001b[0m",
      "\u001b[1;31mValueError\u001b[0m: total size of new array must be unchanged"
     ]
    }
   ],
   "source": []
  },
  {
   "cell_type": "code",
   "execution_count": null,
   "metadata": {
    "collapsed": true
   },
   "outputs": [],
   "source": []
  }
 ],
 "metadata": {
  "kernelspec": {
   "display_name": "Python 2",
   "language": "python",
   "name": "python2"
  },
  "language_info": {
   "codemirror_mode": {
    "name": "ipython",
    "version": 2
   },
   "file_extension": ".py",
   "mimetype": "text/x-python",
   "name": "python",
   "nbconvert_exporter": "python",
   "pygments_lexer": "ipython2",
   "version": "2.7.10"
  }
 },
 "nbformat": 4,
 "nbformat_minor": 0
}
