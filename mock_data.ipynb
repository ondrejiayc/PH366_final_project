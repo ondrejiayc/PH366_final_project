{
 "cells": [
  {
   "cell_type": "code",
   "execution_count": 38,
   "metadata": {
    "collapsed": true
   },
   "outputs": [],
   "source": [
    "import numpy as np\n",
    "from scipy import stats\n",
    "import matplotlib.pyplot as plt\n",
    "\n",
    "%matplotlib inline"
   ]
  },
  {
   "cell_type": "code",
   "execution_count": 54,
   "metadata": {
    "collapsed": false
   },
   "outputs": [
    {
     "name": "stdout",
     "output_type": "stream",
     "text": [
      "17.2800283881\n",
      "log spaced bins\n",
      "[   10.            15.84893192    25.11886432    39.81071706    63.09573445\n",
      "   100.           158.48931925   251.18864315   398.10717055   630.95734448\n",
      "  1000.        ]\n",
      "17.2800283881\n",
      "[7 7 7 7 7 7 7 7 7 7]\n",
      "17.2800283881\n",
      "70\n",
      "lin spaces bins\n",
      "[   10.   109.   208.   307.   406.   505.   604.   703.   802.   901.\n",
      "  1000.]\n",
      "17.2800283881\n",
      "[41 11  6  4  3  3  2  2  2  1]\n",
      "17.2800283881\n",
      "75\n"
     ]
    },
    {
     "data": {
      "image/png": "[encoded data removed]",
      "text/plain": [
       "<matplotlib.figure.Figure at 0x7f7889c10850>"
      ]
     },
     "metadata": {},
     "output_type": "display_data"
    }
   ],
   "source": [
    "def nuInt(x, k):\n",
    "    #print ((k-1)*((k**2-6*k+6.)))\n",
    "    #print ((k**2-3*k+2)*np.power(x,2)+2*(k-1.)*x+2)\n",
    "    #return -np.power((x+1.), (1-k))*((k**2-3.*k+2)*np.power(x,2)+2*(k-1.)*x+2)/((k-1.)*(k**2-5*k+6.))\n",
    "    #this is assuming k=-3 \n",
    "    #if k!=3:\n",
    "    #    return -1./(2.*(r_lim+1.)**2)\n",
    "    #else: \n",
    "    return np.log(x)\n",
    "    #return np.power(x,3-k)/(3-k)\n",
    "\n",
    "def nuProfile(Ntot,radii,k=3.):\n",
    "    nu0 = Ntot / (4.*np.pi*(nuInt(radii[-1], k)-nuInt(radii[0], k)))\n",
    "    print nu0\n",
    "    #print 'nu0:' ,nu0\n",
    "    return (nu0*(nuInt(radii[1:],k) - nuInt(radii[:-1],k))).astype(int)\n",
    "\n",
    "#radii = np.append(0.,np.logspace(1.,3.,11))\n",
    "radii = np.logspace(1.,3.,11)\n",
    "plt.xscale('log')\n",
    "plt.yscale('log')\n",
    "plt.plot(radii[1:],nuProfile(1000,radii),'b+')\n",
    "print \"log spaced bins\"\n",
    "print radii\n",
    "print nuProfile(1000,radii)\n",
    "print np.sum(nuProfile(1000,radii))\n",
    "radii_lin = np.linspace(10,1000, 11)\n",
    "print \"lin spaces bins\"\n",
    "print radii_lin\n",
    "print nuProfile(1000,radii_lin)\n",
    "print np.sum(nuProfile(1000,radii_lin))\n",
    "\n",
    "# here I conclude that the logspace is not ideal - if we want nicer bins, we should create ones that\n",
    "# sample the volume in a log way - so that our sample is equally spread out \n"
   ]
  },
  {
   "cell_type": "code",
   "execution_count": 56,
   "metadata": {
    "collapsed": false
   },
   "outputs": [
    {
     "name": "stdout",
     "output_type": "stream",
     "text": [
      "[   1.            1.99526231    3.98107171    7.94328235   15.84893192\n",
      "   31.6227766    63.09573445  125.89254118  251.18864315  501.18723363\n",
      " 1000.        ]\n"
     ]
    }
   ],
   "source": [
    "def defineRadii(nTot=1000.,rOut=1000.,nAnn=10,k=3):\n",
    "    radii = np.array([1.])\n",
    "    if k==3.:\n",
    "        nu0 = nTot/(4*np.pi*np.log(rOut))\n",
    "        c = nTot/(nAnn*4*np.pi*nu0)\n",
    "    else:\n",
    "        nu0 = nTot*(3.-k)/(4*np.pi*(rOut**(3.-k)-1.))\n",
    "        c = (3-k)*nTot/(4*np.pi*nu0*nAnn)\n",
    "        \n",
    "    for i in range(nAnn):\n",
    "        if k==3.:\n",
    "            radii = np.append(radii,np.exp(c+np.log(radii[i])))\n",
    "        else:\n",
    "            radii = np.append(radii,(c+radii[i]**(3-k))**(1./(3-k)))\n",
    "    return radii\n",
    "    \n",
    "print defineRadii()"
   ]
  },
  {
   "cell_type": "code",
   "execution_count": 42,
   "metadata": {
    "collapsed": false
   },
   "outputs": [
    {
     "data": {
      "text/plain": [
       "[<matplotlib.lines.Line2D at 0x7f7890c0fbd0>]"
      ]
     },
     "execution_count": 42,
     "metadata": {},
     "output_type": "execute_result"
    },
    {
     "data": {
      "image/png": "[encoded data removed]",
      "text/plain": [
       "<matplotlib.figure.Figure at 0x7f7890d0e950>"
      ]
     },
     "metadata": {},
     "output_type": "display_data"
    }
   ],
   "source": [
    "def sigmaProfile(radii,sigMax=1000,k=-.2):\n",
    "    \n",
    "    return sigMax*(1.+0.5*(radii[1:]+radii[:-1]))**k\n",
    "\n",
    "plt.plot(1.+0.5*(radii[1:]+radii[:-1]),sigmaProfile(radii))"
   ]
  },
  {
   "cell_type": "code",
   "execution_count": 47,
   "metadata": {
    "collapsed": true
   },
   "outputs": [],
   "source": [
    "def createMockData(Ntot=1000,rOut=1000.,shells=10,sigMax=1000,kindex=2.9,sigmaindex=-0.2): #total Ngals, no of shells\n",
    "    clusterData = np.zeros((2*Ntot,5))\n",
    "    counter=0\n",
    "    radii = defineRadii(Ntot,rOut,shells,kindex)\n",
    "    #density = nuProfile(Ntot,radii,k=kindex)\n",
    "    sig = sigmaProfile(radii,sigMax=1000,k=sigmaindex)\n",
    "    \n",
    "    for shell,dens in enumerate((Ntot/shells)*np.ones(shells)):\n",
    "        #generate positions\n",
    "        phi = np.random.uniform(0.,2*np.pi,dens)\n",
    "        cosTheta = np.random.uniform(-1,1,dens)\n",
    "        theta = np.arccos(cosTheta)\n",
    "        u = np.random.uniform(radii[shell]**3,radii[shell+1]**3,dens) #cuberoot([rin,rout])\n",
    "        r = np.power(u,1./3)\n",
    "        \n",
    "        x = r*np.sin(theta)*np.cos(phi)\n",
    "        y = r*np.sin(theta)*np.sin(phi)\n",
    "        z = r*cosTheta\n",
    "        \n",
    "        #generate velocities\n",
    "        \n",
    "        speed = sig[shell]*np.random.randn(dens)\n",
    "        #phi = np.random.uniform(0.,2*np.pi,dens)\n",
    "        cosTheta = np.random.uniform(-1,1,dens)\n",
    "        #theta = np.arccos(cosTheta)\n",
    "        \n",
    "        v=speed*cosTheta   \n",
    "        \n",
    "        #replace with vstack,append\n",
    "        clusterData[counter:counter+dens]=np.hstack((shell*np.ones(dens).reshape((dens,1)),x.reshape((dens,1)),y.reshape((dens,1)),z.reshape((dens,1)),v.reshape((dens,1))))\n",
    "        counter += dens\n",
    "    \n",
    "    print counter\n",
    "    return clusterData[:counter],sig"
   ]
  },
  {
   "cell_type": "code",
   "execution_count": 48,
   "metadata": {
    "collapsed": false
   },
   "outputs": [
    {
     "name": "stdout",
     "output_type": "stream",
     "text": [
      "1000.0\n",
      "[  0.01         0.01995262   0.03981072   0.07943282   0.15848932\n",
      "   0.31622777   0.63095734   1.25892541   2.51188643   5.01187234  10.        ]\n"
     ]
    },
    {
     "name": "stderr",
     "output_type": "stream",
     "text": [
      "/home/ondrej/anaconda/lib/python2.7/site-packages/ipykernel/__main__.py:10: DeprecationWarning: using a non-integer number instead of an integer will result in an error in the future\n",
      "/home/ondrej/anaconda/lib/python2.7/site-packages/ipykernel/__main__.py:11: DeprecationWarning: using a non-integer number instead of an integer will result in an error in the future\n",
      "/home/ondrej/anaconda/lib/python2.7/site-packages/ipykernel/__main__.py:13: DeprecationWarning: using a non-integer number instead of an integer will result in an error in the future\n",
      "/home/ondrej/anaconda/lib/python2.7/site-packages/ipykernel/__main__.py:22: DeprecationWarning: using a non-integer number instead of an integer will result in an error in the future\n",
      "/home/ondrej/anaconda/lib/python2.7/site-packages/ipykernel/__main__.py:24: DeprecationWarning: using a non-integer number instead of an integer will result in an error in the future\n",
      "/home/ondrej/anaconda/lib/python2.7/site-packages/ipykernel/__main__.py:30: DeprecationWarning: using a non-integer number instead of an integer will result in an error in the future\n",
      "/home/ondrej/anaconda/lib/python2.7/site-packages/ipykernel/__main__.py:34: DeprecationWarning: using a non-integer number instead of an integer will result in an error in the future\n"
     ]
    },
    {
     "data": {
      "text/plain": [
       "<matplotlib.collections.PathCollection at 0x7f788eb25d10>"
      ]
     },
     "execution_count": 48,
     "metadata": {},
     "output_type": "execute_result"
    },
    {
     "data": {
      "image/png": "[encoded data removed]",
      "text/plain": [
       "<matplotlib.figure.Figure at 0x7f7890c0f750>"
      ]
     },
     "metadata": {},
     "output_type": "display_data"
    }
   ],
   "source": [
    "cluster,sigma = createMockData()\n",
    "\n",
    "print np.logspace(-2,1,11)\n",
    "\n",
    "plt.scatter(cluster[:,1],cluster[:,2],s=np.fabs(cluster[:4])/5)"
   ]
  },
  {
   "cell_type": "code",
   "execution_count": 49,
   "metadata": {
    "collapsed": false
   },
   "outputs": [
    {
     "data": {
      "text/html": [
       "<div>\n",
       "<table border=\"1\" class=\"dataframe\">\n",
       "  <thead>\n",
       "    <tr style=\"text-align: right;\">\n",
       "      <th></th>\n",
       "      <th>0</th>\n",
       "      <th>1</th>\n",
       "      <th>2</th>\n",
       "      <th>3</th>\n",
       "      <th>4</th>\n",
       "    </tr>\n",
       "  </thead>\n",
       "  <tbody>\n",
       "    <tr>\n",
       "      <th>count</th>\n",
       "      <td>1000.000000</td>\n",
       "      <td>1000.000000</td>\n",
       "      <td>1000.000000</td>\n",
       "      <td>1000.000000</td>\n",
       "      <td>1000.000000</td>\n",
       "    </tr>\n",
       "    <tr>\n",
       "      <th>mean</th>\n",
       "      <td>4.500000</td>\n",
       "      <td>-4.129504</td>\n",
       "      <td>2.040371</td>\n",
       "      <td>9.831010</td>\n",
       "      <td>-6.188623</td>\n",
       "    </tr>\n",
       "    <tr>\n",
       "      <th>std</th>\n",
       "      <td>2.873719</td>\n",
       "      <td>188.742717</td>\n",
       "      <td>191.330871</td>\n",
       "      <td>187.844996</td>\n",
       "      <td>291.831147</td>\n",
       "    </tr>\n",
       "    <tr>\n",
       "      <th>min</th>\n",
       "      <td>0.000000</td>\n",
       "      <td>-958.586490</td>\n",
       "      <td>-840.300828</td>\n",
       "      <td>-877.292899</td>\n",
       "      <td>-1347.361498</td>\n",
       "    </tr>\n",
       "    <tr>\n",
       "      <th>25%</th>\n",
       "      <td>2.000000</td>\n",
       "      <td>-20.710834</td>\n",
       "      <td>-22.850396</td>\n",
       "      <td>-19.398367</td>\n",
       "      <td>-108.596215</td>\n",
       "    </tr>\n",
       "    <tr>\n",
       "      <th>50%</th>\n",
       "      <td>4.500000</td>\n",
       "      <td>-0.472517</td>\n",
       "      <td>-0.157375</td>\n",
       "      <td>0.267940</td>\n",
       "      <td>-0.423121</td>\n",
       "    </tr>\n",
       "    <tr>\n",
       "      <th>75%</th>\n",
       "      <td>7.000000</td>\n",
       "      <td>25.228357</td>\n",
       "      <td>23.381803</td>\n",
       "      <td>24.453354</td>\n",
       "      <td>108.877633</td>\n",
       "    </tr>\n",
       "    <tr>\n",
       "      <th>max</th>\n",
       "      <td>9.000000</td>\n",
       "      <td>883.847078</td>\n",
       "      <td>920.705518</td>\n",
       "      <td>930.610138</td>\n",
       "      <td>1479.516917</td>\n",
       "    </tr>\n",
       "  </tbody>\n",
       "</table>\n",
       "</div>"
      ],
      "text/plain": [
       "                 0            1            2            3            4\n",
       "count  1000.000000  1000.000000  1000.000000  1000.000000  1000.000000\n",
       "mean      4.500000    -4.129504     2.040371     9.831010    -6.188623\n",
       "std       2.873719   188.742717   191.330871   187.844996   291.831147\n",
       "min       0.000000  -958.586490  -840.300828  -877.292899 -1347.361498\n",
       "25%       2.000000   -20.710834   -22.850396   -19.398367  -108.596215\n",
       "50%       4.500000    -0.472517    -0.157375     0.267940    -0.423121\n",
       "75%       7.000000    25.228357    23.381803    24.453354   108.877633\n",
       "max       9.000000   883.847078   920.705518   930.610138  1479.516917"
      ]
     },
     "execution_count": 49,
     "metadata": {},
     "output_type": "execute_result"
    }
   ],
   "source": [
    "import pandas as pd\n",
    "\n",
    "clusterPd = pd.DataFrame(cluster)\n",
    "\n",
    "clusterPd.describe()"
   ]
  },
  {
   "cell_type": "code",
   "execution_count": 50,
   "metadata": {
    "collapsed": false
   },
   "outputs": [],
   "source": [
    "#clusterPd.to_csv('mock_cluster.csv')\n",
    "clusterPd.to_csv('mock_cluster_3.csv')"
   ]
  },
  {
   "cell_type": "code",
   "execution_count": null,
   "metadata": {
    "collapsed": true
   },
   "outputs": [],
   "source": []
  }
 ],
 "metadata": {
  "kernelspec": {
   "display_name": "Python 2",
   "language": "python",
   "name": "python2"
  },
  "language_info": {
   "codemirror_mode": {
    "name": "ipython",
    "version": 2
   },
   "file_extension": ".py",
   "mimetype": "text/x-python",
   "name": "python",
   "nbconvert_exporter": "python",
   "pygments_lexer": "ipython2",
   "version": "2.7.10"
  }
 },
 "nbformat": 4,
 "nbformat_minor": 0
}
