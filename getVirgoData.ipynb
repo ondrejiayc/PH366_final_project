{
 "cells": [
  {
   "cell_type": "code",
   "execution_count": null,
   "metadata": {
    "collapsed": true
   },
   "outputs": [],
   "source": [
    "import pandas as pd\n",
    "import math\n",
    "import numpy as np\n",
    "import matplotlib.pyplot as plt\n",
    "import scipy.stats\n",
    "from StringIO import StringIO \n",
    "%matplotlib inline\n",
    "plt.rcParams['figure.figsize'] = (12.0, 12.0) \n"
   ]
  },
  {
   "cell_type": "code",
   "execution_count": null,
   "metadata": {
    "collapsed": true
   },
   "outputs": [],
   "source": [
    "#define the column start and end points\n",
    "cols=[(0,4),(5,9),(10,15),(16,24),(25,32),(33,41),(42,49),(50,57),(58,64),(65,72),(73,74),(75,76),(77,85),(86,88)]\n",
    "cols+=[(89,92),(93,112),(113,118),(119,124),(125,130),(131,136),(137,142),(143,148),(149,154),(155,160),(161,166)]\n",
    "cols+=[(167,172),(173,179),(180,186)]\n",
    "\n",
    "#read in the data\n",
    "data=pd.read_fwf(\"virgo_data.txt\",colspecs=cols,skiprows=57,header=None)\n",
    "\n",
    "#rename the columns\n",
    "data.rename(columns={0:'idEVC',1:'idVC',2:'ngc',3:'RAdeg',4:'DEdeg',5:'FRAdeg',6:'FDEdeg',7:'Offset'},inplace=True)\n",
    "data.rename(columns={8:'SRvel',9:'NRvel',10:'memIn',11:'memVC',12:'pmorph',13:'smorph',14:'nmorph'},inplace=True)\n",
    "data.rename(columns={15:'vmorph',16:'umag',17:'eumag',18:'gmag',19:'egmag',20:'rmag',21:'ermag'},inplace=True)\n",
    "data.rename(columns={22:'imag',23:'eimag',24:'zmag',25:'ezmag',26:'rad',27:'r50'},inplace=True)\n"
   ]
  },
  {
   "cell_type": "code",
   "execution_count": null,
   "metadata": {
    "collapsed": true
   },
   "outputs": [],
   "source": [
    "def defineCenter():\n",
    "    '''\n",
    "    Get the center of the cluster, currently taken from NED.\n",
    "    '''\n",
    "    return np.array([187.69708,12.33694])\n",
    "\n",
    "def getDistances(data,center,kpcPerDeg):\n",
    "    '''\n",
    "    Returns distances for the individual galaxies from the cluster center in kpc \n",
    "    using the haversine formula.\n",
    "    \n",
    "    INPUTS:\n",
    "        - a pandas array with ['RAdeg'] and ['DEdeg'] columns for the galaxy positions.\n",
    "        - a numpy array with RA and DEC of the cluster\n",
    "        - conversion factor between kiloparsecs and degrees\n",
    "    \n",
    "    RETURNS:\n",
    "        - a numpy array with distances\n",
    "    '''\n",
    "\n",
    "    dRA = math.radians(data['RAdeg']-center[0])\n",
    "    dDE = math.radians(data['DEdeg']-center[1])\n",
    "    a = np.power(math.sin(dDE/2),2.) + math.cos(math.radians(data['DEdeg'])) \\\n",
    "        *math.cos(math.radians(center[1]))*np.power(math.sin(dRa/2),2.)\n",
    "        \n",
    "    return kpcPerDeg*math.degrees(2*math.asin(np.sqrt(a)))\n"
   ]
  }
 ],
 "metadata": {
  "kernelspec": {
   "display_name": "Python 2",
   "language": "python",
   "name": "python2"
  },
  "language_info": {
   "codemirror_mode": {
    "name": "ipython",
    "version": 2
   },
   "file_extension": ".py",
   "mimetype": "text/x-python",
   "name": "python",
   "nbconvert_exporter": "python",
   "pygments_lexer": "ipython2",
   "version": "2.7.10"
  }
 },
 "nbformat": 4,
 "nbformat_minor": 0
}
