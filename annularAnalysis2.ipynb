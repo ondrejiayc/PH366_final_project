{
 "cells": [
  {
   "cell_type": "code",
   "execution_count": 1,
   "metadata": {
    "collapsed": true
   },
   "outputs": [],
   "source": [
    "import numpy as np\n",
    "import matplotlib.pyplot as plt\n",
    "import pandas as pd\n",
    "\n",
    "%matplotlib inline"
   ]
  },
  {
   "cell_type": "code",
   "execution_count": 2,
   "metadata": {
    "collapsed": true
   },
   "outputs": [],
   "source": [
    "def createMockCluster(rin,rout,nmean,k,smax,m,vmean,threeD=False):\n",
    "    ntot = np.random.poisson(lam=nmean)\n",
    "    \n",
    "    nu0 = ntot/(4*np.pi*(np.log(rout/rin))) if k==3. else ntot*(3.-k)/(4*np.pi*(rout**(3.-k)-rin**(3.-k)))\n",
    "    #rho = 4*np.pi*nu0*np.random.uniform(low=rin,high=rout,size=ntot)**(2.-k)\n",
    "    rho = np.power(np.random.uniform(4*np.pi*nu0*rin**(2.-k),4*np.pi*nu0*rout**(2.-k),size=ntot)/(4*np.pi*nu0),1./(2-k))\n",
    "    phi = np.random.uniform(0.,2*np.pi,ntot)\n",
    "    theta = np.arccos(np.random.uniform(-1,1,ntot))\n",
    "    \n",
    "    x = rho*np.sin(theta)*np.cos(phi)\n",
    "    y = rho*np.sin(theta)*np.sin(phi)\n",
    "    \n",
    "    vobs = np.array([np.random.normal(loc=vmean,scale=np.sqrt(3)*smax/(i**m)) for i in rho])\n",
    "    \n",
    "    if threeD:\n",
    "        z = rho*np.cos(theta)\n",
    "        return pd.DataFrame(np.hstack((x.reshape((ntot,1)),y.reshape((ntot,1)),z.reshape((ntot,1)),\\\n",
    "                                      vobs.reshape((ntot,1)),rho.reshape((ntot,1)))),columns=['x','y','z','vobs','rho'])\n",
    "    else:\n",
    "        r = np.sqrt(np.power(x,2.)+np.power(y,2.))\n",
    "        return pd.DataFrame(np.hstack((r.reshape((ntot,1)),vobs.reshape((ntot,1)))),columns=['r','vobs'])"
   ]
  },
  {
   "cell_type": "code",
   "execution_count": 9,
   "metadata": {
    "collapsed": false
   },
   "outputs": [
    {
     "name": "stdout",
     "output_type": "stream",
     "text": [
      "[   0.            0.73275537    1.0003572     1.15664037    1.3830914\n",
      "    1.77197597    2.34198015    3.40917706    6.54028027  429.85607839]\n"
     ]
    }
   ],
   "source": [
    "#load data\n",
    "\n",
    "data=pd.read_csv('continuousMock0.csv')\n",
    "\n",
    "def defineAnnuli(r,nAnn):\n",
    "    return np.append(0.,np.sort(r)[np.linspace(0,len(r)-1,nAnn).astype(int)][1:])\n",
    "\n",
    "nAnn = 10\n",
    "annuli = defineAnnuli(data['r'],nAnn)"
   ]
  },
  {
   "cell_type": "code",
   "execution_count": 10,
   "metadata": {
    "collapsed": true
   },
   "outputs": [],
   "source": [
    "def labelGalaxies(data,annuli):\n",
    "    #adds a column to data indicating the galaxy's membership in an annulus\n",
    "    bla = np.zeros(len(data['r']))\n",
    "    for i in range(len(annuli)-1):\n",
    "        bla += i*np.array(np.logical_and(data['r']>annuli[i],data['r']<=annuli[i+1]).astype(int))\n",
    "    return bla\n",
    "\n",
    "def galInAnn(data,annuli):\n",
    "    #calculates the number of galaxies in all the annuli\n",
    "    return np.array([(data['annuli']==i).sum() for i in range(len(annuli)-1)])\n",
    "\n",
    "def sigInAnn(data,annuli):\n",
    "    return [np.std(data['vobs'][data['annuli']==i],ddof=1) for i in range(len(annuli)-1)]\n",
    "\n",
    "def getProfiles(annuli,rin,rout,nmean,k,smax,m,vmean):\n",
    "    mock = createMockCluster(rin,rout,nmean,k,smax,m,vmean)\n",
    "    mock['annuli'] = labelGalaxies(mock,annuli)\n",
    "    return galInAnn(mock,annuli),sigInAnn(mock,annuli)"
   ]
  },
  {
   "cell_type": "code",
   "execution_count": 12,
   "metadata": {
    "collapsed": false
   },
   "outputs": [
    {
     "name": "stdout",
     "output_type": "stream",
     "text": [
      "The slowest run took 6.10 times longer than the fastest. This could mean that an intermediate result is being cached \n",
      "10 loops, best of 3: 22.9 ms per loop\n"
     ]
    }
   ],
   "source": [
    "#all log likelihoods\n",
    "\n",
    "#make a table of log(n!)-s for n=1,...\n",
    "factorialTable = np.cumsum(np.append(0,[np.log(i) for i in range(1,len(data['r']))]))\n",
    "\n",
    "def logPriorNu(k):\n",
    "    #starting gaussian\n",
    "    nu0 = 3. #mean prior density index\n",
    "    sigma = 1.\n",
    "    return -0.5*np.log(2*np.pi*sigma**2)-0.5*(k-nu0)**2/(2*sigma**2)\n",
    "\n",
    "def logPriorSigma(k):\n",
    "    #starting gaussian\n",
    "    nu0 = -.2 #mean prior sigma index\n",
    "    sigma = 0.1\n",
    "    return -0.5*np.log(2*np.pi*sigma**2)-0.5*(k-nu0)**2/(2*sigma**2)\n",
    "\n",
    "def logPriorSigmaNorm(k):\n",
    "    #starting gaussian\n",
    "    nu0 = 1000 #mean prior sigma index\n",
    "    sigma = 500\n",
    "    return -0.5*np.log(2*np.pi*sigma**2)-0.5*(k-nu0)**2/(2*sigma**2)\n",
    " \n",
    "\n",
    "def logLikelihoodNu(prediction,data):\n",
    "    return np.sum(data*np.log(prediction)-prediction-factorialTable[data])\n",
    "\n",
    "def logLikelihoodSigma(vObs,vPred,nPred):\n",
    "    # distribution of variances is chisq, as shown, for example, at\n",
    "    # https://onlinecourses.science.psu.edu/stat414/node/174\n",
    "    return np.sum(np.log(stats.chi2.pdf((nPred-1.)*np.power(vObs,2.)/np.power(vPred,2.),nPred-1)))\n",
    "\n",
    "def logPosterior(vObs,vPred,nObs,nPred,kInd,sigmaInd,sigmaNorm):\n",
    "    return logPriorNu(kInd)+logPriorSigma(sigmaInd)+logPriorSigmaNorm(sigmaNorm)+\\\n",
    "           logLikelihoodNu(nPred,nObs)+logLikelihoodSigma(vObs,vPred,nPred)"
   ]
  },
  {
   "cell_type": "code",
   "execution_count": 17,
   "metadata": {
    "collapsed": false
   },
   "outputs": [
    {
     "name": "stdout",
     "output_type": "stream",
     "text": [
      "[ 99 116 106 111 124 108 104 110 118]\n",
      "[ 51.37252208  52.09542935  52.20695866  50.39481053  48.439801\n",
      "  45.76986303  42.83054526  39.02898351  30.96053301]\n"
     ]
    }
   ],
   "source": [
    "ntot=1000\n",
    "bla1,bla2 = getProfiles(annuli,1,1000,1000*ntot,3,1000,0.2,0)\n",
    "bla1/=ntot\n",
    "bla2/=np.sqrt(ntot)\n",
    "\n",
    "print bla1\n",
    "print bla2"
   ]
  },
  {
   "cell_type": "code",
   "execution_count": 18,
   "metadata": {
    "collapsed": false
   },
   "outputs": [
    {
     "name": "stdout",
     "output_type": "stream",
     "text": [
      "[ 99 116 106 111 124 108 105 109 118]\n",
      "[ 51.27101747  52.02650253  52.03644484  50.47386708  48.22288653\n",
      "  45.93556896  43.01930418  39.18609952  30.84876409]\n"
     ]
    }
   ],
   "source": [
    "ntot=1000\n",
    "bla1,bla2 = getProfiles(annuli,1,1000,1000*ntot,3,1000,0.2,0)\n",
    "bla1/=ntot\n",
    "bla2/=np.sqrt(ntot)\n",
    "\n",
    "print bla1\n",
    "print bla2"
   ]
  },
  {
   "cell_type": "code",
   "execution_count": 19,
   "metadata": {
    "collapsed": false
   },
   "outputs": [
    {
     "name": "stdout",
     "output_type": "stream",
     "text": [
      "[ 99 116 106 111 125 108 104 110 118]\n",
      "[ 51.56502247  52.07016862  52.13777817  50.32216058  48.27531929\n",
      "  45.9825211   43.14596094  39.11981342  30.79616311]\n"
     ]
    }
   ],
   "source": [
    "ntot=1000\n",
    "bla1,bla2 = getProfiles(annuli,1,1000,1000*ntot,3,1000,0.2,0)\n",
    "bla1/=ntot\n",
    "bla2/=np.sqrt(ntot)\n",
    "\n",
    "print bla1\n",
    "print bla2"
   ]
  },
  {
   "cell_type": "code",
   "execution_count": null,
   "metadata": {
    "collapsed": true
   },
   "outputs": [],
   "source": []
  }
 ],
 "metadata": {
  "kernelspec": {
   "display_name": "Python 2",
   "language": "python",
   "name": "python2"
  },
  "language_info": {
   "codemirror_mode": {
    "name": "ipython",
    "version": 2
   },
   "file_extension": ".py",
   "mimetype": "text/x-python",
   "name": "python",
   "nbconvert_exporter": "python",
   "pygments_lexer": "ipython2",
   "version": "2.7.10"
  }
 },
 "nbformat": 4,
 "nbformat_minor": 0
}
