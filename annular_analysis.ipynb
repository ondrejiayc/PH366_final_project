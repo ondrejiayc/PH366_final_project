{
 "cells": [
  {
   "cell_type": "markdown",
   "metadata": {},
   "source": [
    "Ideas to make this work:\n",
    "\n",
    "* run longer chain\n",
    "* change the chain step sizes\n",
    "* implement reasonable priors and potentially update likelihoods\n",
    "* figure out with what probability to accept the next step\n",
    "* change the number of annuli (not shells!)\n"
   ]
  },
  {
   "cell_type": "code",
   "execution_count": 1,
   "metadata": {
    "collapsed": true
   },
   "outputs": [],
   "source": [
    "import numpy as np\n",
    "import matplotlib.pyplot as plt\n",
    "import pandas as pd\n",
    "from scipy import stats\n",
    "\n",
    "% matplotlib inline"
   ]
  },
  {
   "cell_type": "code",
   "execution_count": 2,
   "metadata": {
    "collapsed": true
   },
   "outputs": [],
   "source": [
    "def defineAnnuli(r,nAnn):\n",
    "    return np.append(0.,np.sort(r)[np.linspace(0,len(r)-1,nAnn).astype(int)][1:])\n",
    "\n",
    "def labelGalaxies(data,annuli):\n",
    "    #adds a column to data indicating the galaxy's membership in an annulus\n",
    "    bla = np.zeros(len(data['r']))\n",
    "    for i in range(len(annuli)-1):\n",
    "        bla += i*np.array(np.logical_and(data['r']>annuli[i],data['r']<=annuli[i+1]).astype(int))\n",
    "    return bla\n",
    "\n",
    "def galInAnn(data,annuli):\n",
    "    #calculates the number of galaxies in all the annuli\n",
    "    return np.array([(data['annuli']==i).sum() for i in range(len(annuli)-1)])\n",
    "\n",
    "def sigInAnn(data,annuli):\n",
    "    return [np.std(data['vobs'][data['annuli']==i],ddof=1) for i in range(len(annuli)-1)]\n",
    "\n"
   ]
  },
  {
   "cell_type": "code",
   "execution_count": 57,
   "metadata": {
    "collapsed": false
   },
   "outputs": [
    {
     "name": "stdout",
     "output_type": "stream",
     "text": [
      "[   0.            5.10062805   23.85469564   81.82870312  272.81301104\n",
      "  982.44091053]\n",
      "[200 200 200 200 200]\n",
      "[414.4804127234987, 355.72714943267584, 267.2140911584264, 200.7251755478999, 159.89856050871504]\n"
     ]
    }
   ],
   "source": [
    "data=pd.read_csv('mock_cluster_4.csv')\n",
    "data.rename(columns={'Unnamed: 0':'id','0':'origAnn','1':'x','2':'y','3':'z','4':'vobs'},inplace=True)\n",
    "\n",
    "data['r'] = np.power(np.power(data['x'],2.)+np.power(data['y'],2.),0.5)\n",
    "\n",
    "nAnn = 5 #number of desired annuli\n",
    "annuli = defineAnnuli(data['r'],nAnn+1) \n",
    "\n",
    "print annuli\n",
    "\n",
    "#summarize the true data\n",
    "\n",
    "# number of galaxies per annulus\n",
    "    \n",
    "data['annuli']=labelGalaxies(data,annuli)\n",
    "nData = galInAnn(data,annuli)\n",
    "sigmaData = sigInAnn(data,annuli)\n",
    "\n",
    "print nData\n",
    "print sigmaData"
   ]
  },
  {
   "cell_type": "code",
   "execution_count": 58,
   "metadata": {
    "collapsed": false
   },
   "outputs": [],
   "source": [
    "def defineShellRadii(nTot=1000.,rOut=1000.,nAnn=10,k=3):\n",
    "    radii = np.array([1.])\n",
    "    if k==3.:\n",
    "        nu0 = nTot/(4*np.pi*np.log(rOut))\n",
    "        c = nTot/(nAnn*4*np.pi*nu0)\n",
    "    else:\n",
    "        nu0 = nTot*(3.-k)/(4*np.pi*(rOut**(3.-k)-1.))\n",
    "        c = (3-k)*nTot/(4*np.pi*nu0*nAnn)\n",
    "        \n",
    "    for i in range(nAnn):\n",
    "        if k==3.:\n",
    "            radii = np.append(radii,np.exp(c+np.log(radii[i])))\n",
    "        else:\n",
    "            radii = np.append(radii,(c+radii[i]**(3-k))**(1./(3-k)))\n",
    "    return radii\n",
    "\n",
    "defineShellRadii()\n",
    "\n",
    "def nuProfile(Ntot,radii,k=2.9):\n",
    "    nu0 = Ntot / (4.*np.pi*(nuInt(radii[-1], k)-nuInt(radii[0], k)))\n",
    "    print nu0\n",
    "    #print 'nu0:' ,nu0\n",
    "    return (nu0*(nuInt(radii[1:],k) - nuInt(radii[:-1],k))).astype(int)\n",
    "\n",
    "def sigmaProfile(radii,sigMax=1000,k=-.2):\n",
    "    return sigMax*(0.5*(radii[1:]+radii[:-1]))**k"
   ]
  },
  {
   "cell_type": "code",
   "execution_count": 59,
   "metadata": {
    "collapsed": true
   },
   "outputs": [],
   "source": [
    "def createMockData(Ntot=1000,rOut=1000.,nAnn=10,sigMax=1000,kindex=3.,sigmaindex=-0.2): #total Ngals, no of shells\n",
    "    clusterData = np.zeros((2*Ntot,2))\n",
    "    counter=0\n",
    "    radii = defineShellRadii(Ntot,rOut,nAnn,kindex)\n",
    "    #density = nuProfile(Ntot,radii,k=kindex)\n",
    "    sig = sigmaProfile(radii,sigMax,k=sigmaindex)\n",
    "    \n",
    "    for shell,dens in enumerate(np.random.poisson(Ntot/nAnn*np.ones(nAnn))):\n",
    "        #generate positions\n",
    "        phi = np.random.uniform(0.,2*np.pi,dens)\n",
    "        cosTheta = np.random.uniform(-1,1,dens)\n",
    "        theta = np.arccos(cosTheta)\n",
    "        u = np.random.uniform(radii[shell]**3,radii[shell+1]**3,dens) #cuberoot([rin,rout])\n",
    "        r = np.power(u,1./3)\n",
    "        \n",
    "        x = r*np.sin(theta)*np.cos(phi)\n",
    "        y = r*np.sin(theta)*np.sin(phi)\n",
    "        z = r*cosTheta\n",
    "        \n",
    "        radius = np.power(np.power(x,2.)+np.power(y,2.),0.5)\n",
    "        #generate velocities\n",
    "        \n",
    "        speed = sig[shell]*np.random.randn(dens)\n",
    "        #phi = np.random.uniform(0.,2*np.pi,dens)\n",
    "        cosTheta = np.random.uniform(-1,1,dens)\n",
    "        #theta = np.arccos(cosTheta)\n",
    "        \n",
    "        v=speed*cosTheta\n",
    "        \n",
    "        #replace with vstack,append\n",
    "        clusterData[counter:counter+dens]=np.hstack((radius.reshape((dens,1)),v.reshape((dens,1))))\n",
    "        counter += dens\n",
    "    \n",
    "    #print 'Created mock data with '+str(counter)+' galaxies.'\n",
    "    return pd.DataFrame(clusterData[:counter],columns=['r','vobs'])"
   ]
  },
  {
   "cell_type": "code",
   "execution_count": 60,
   "metadata": {
    "collapsed": false
   },
   "outputs": [
    {
     "name": "stdout",
     "output_type": "stream",
     "text": [
      "(array([210, 223, 166, 213, 143]), [455.99282133747573, 343.57881036543694, 292.3926242122391, 203.6357484096977, 165.3989736334006])\n"
     ]
    }
   ],
   "source": [
    "#a single \"mcmc step\"\n",
    "kIndex = 3\n",
    "sigmaIndex = -0.2\n",
    "sigMax = 1000\n",
    "\n",
    "def mcmcStep(annuli,kInd,sInd,sMaxInd):\n",
    "    mockData = createMockData(len(data['r']),np.amax(data['r']),10,sigMax,kIndex,sigmaIndex)\n",
    "    mockData['annuli'] = labelGalaxies(mockData,annuli)\n",
    "    return galInAnn(mockData,annuli),sigInAnn(mockData,annuli)\n",
    "\n",
    "print mcmcStep(annuli,kIndex,sigmaIndex,sigMax)"
   ]
  },
  {
   "cell_type": "code",
   "execution_count": 83,
   "metadata": {
    "collapsed": false
   },
   "outputs": [],
   "source": [
    "#all log likelihoods\n",
    "\n",
    "#make a table of log(n!)-s for n=1,...\n",
    "factorialTable = np.cumsum(np.append(0,[np.log(i) for i in range(1,len(data['r']))]))\n",
    "\n",
    "def logPriorNu():\n",
    "    return 0.0\n",
    "\n",
    "def logPriorSigma():\n",
    "    return 0.0\n",
    "\n",
    "def logLikelihoodNu(prediction,data):\n",
    "    return np.sum(data*np.log(prediction)-prediction-factorialTable[data])\n",
    "\n",
    "def logLikelihoodSigma(vObs,vPred,nPred):\n",
    "    # distribution of variances is chisq, as shown, for example, at\n",
    "    # https://onlinecourses.science.psu.edu/stat414/node/174\n",
    "    return np.sum(np.log(stats.chi2.pdf((nPred-1.)*np.power(vObs,2.)/np.power(vPred,2.),nPred-1)))"
   ]
  },
  {
   "cell_type": "code",
   "execution_count": 85,
   "metadata": {
    "collapsed": false
   },
   "outputs": [
    {
     "name": "stdout",
     "output_type": "stream",
     "text": [
      "Running MC for 1000 steps\n",
      "Iteration 0/1100\n",
      "Iteration 200/1100\n",
      "Iteration 400/1100\n",
      "Iteration 600/1100\n",
      "Iteration 800/1100\n",
      "Iteration 1000/1100\n",
      "Acceptance fraction: 0.003\n"
     ]
    }
   ],
   "source": [
    "\n",
    "nRuns = 1000\n",
    "burn=100\n",
    "\n",
    "chain = []\n",
    "probs = []\n",
    "naccept = 0\n",
    "    \n",
    "print 'Running MC for', nRuns, 'steps'\n",
    "\n",
    "\n",
    "nOld,sigmaOld = mcmcStep(annuli,kIndex,sigmaIndex,sigMax)\n",
    "lOld = logPriorNu()+logPriorSigma()+logLikelihoodNu(nOld,nData)+logLikelihoodSigma(sigmaData,sigmaOld,nOld)\n",
    "\n",
    "kOld = kIndex\n",
    "sIndOld = sigmaIndex\n",
    "sMaxOld = sigMax\n",
    "\n",
    "outputStep = 200\n",
    "\n",
    "for i in range(burn+nRuns):\n",
    "    if i%outputStep==0: \n",
    "        print 'Iteration '+str(i)+'/'+str(burn+nRuns)\n",
    "    kNew = kOld+0.1*np.random.randn()\n",
    "    sIndNew = sIndOld+0.01*np.random.randn()\n",
    "    sMaxNew = sMaxOld+10*np.random.randn()\n",
    "    nMock,sigmaMock = mcmcStep(annuli,kNew,sIndNew,sMaxNew)\n",
    "    lNew=logPriorNu()+logPriorSigma()+logLikelihoodNu(nMock,nData)+logLikelihoodSigma(sigmaData,sigmaMock,nMock)\n",
    "    \n",
    "    #print 'lOld = '+str(lOld)\n",
    "    #print 'lNew = '+str(lNew)\n",
    "    \n",
    "    if (np.exp(lNew - lOld) > np.random.uniform()):\n",
    "        # accept\n",
    "        kOld = kNew\n",
    "        sIndOld = sIndNew\n",
    "        sMaxOld = sMaxNew\n",
    "        lOld = lNew\n",
    "        if (i > burn): #measure acceptance rate after burn-in only\n",
    "            naccept += 1\n",
    "    else:\n",
    "        # Stay where we are; m,b stay the same, and we append them\n",
    "        # to the chain below.\n",
    "        pass\n",
    "\n",
    "    chain.append((kOld,sIndOld,sMaxOld))\n",
    "\n",
    "print 'Acceptance fraction:', naccept/float(nRuns)\n",
    "#return chain[burn_in:]\n",
    "    "
   ]
  },
  {
   "cell_type": "code",
   "execution_count": 86,
   "metadata": {
    "collapsed": false
   },
   "outputs": [
    {
     "data": {
      "image/png": "[encoded data removed]",
      "text/plain": [
       "<matplotlib.figure.Figure at 0x7fa9a12bfc50>"
      ]
     },
     "metadata": {},
     "output_type": "display_data"
    }
   ],
   "source": [
    "import corner\n",
    "corner.corner(chain, labels=['nuIndex','sigmaIndex','sigma0'],quantiles=[0.16,0.5,0.84],\n",
    "                show_titles=True, title_args={\"fontsize\": 12},\n",
    "                plot_datapoints=True, fill_contours=True, levels=[0.68, 0.95], color='b', bins=40, smooth=1.0);\n",
    "plt.show()"
   ]
  },
  {
   "cell_type": "code",
   "execution_count": null,
   "metadata": {
    "collapsed": true
   },
   "outputs": [],
   "source": []
  }
 ],
 "metadata": {
  "kernelspec": {
   "display_name": "Python 2",
   "language": "python",
   "name": "python2"
  },
  "language_info": {
   "codemirror_mode": {
    "name": "ipython",
    "version": 2
   },
   "file_extension": ".py",
   "mimetype": "text/x-python",
   "name": "python",
   "nbconvert_exporter": "python",
   "pygments_lexer": "ipython2",
   "version": "2.7.10"
  }
 },
 "nbformat": 4,
 "nbformat_minor": 0
}
