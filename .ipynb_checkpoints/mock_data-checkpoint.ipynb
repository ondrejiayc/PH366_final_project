{
 "cells": [
  {
   "cell_type": "code",
   "execution_count": 2,
   "metadata": {
    "collapsed": true
   },
   "outputs": [],
   "source": [
    "import numpy as np\n",
    "from scipy import stats\n",
    "import matplotlib.pyplot as plt\n",
    "\n",
    "%matplotlib inline"
   ]
  },
  {
   "cell_type": "code",
   "execution_count": 15,
   "metadata": {
    "collapsed": false
   },
   "outputs": [
    {
     "name": "stdout",
     "output_type": "stream",
     "text": [
      "log spaced bins\n",
      "[   10.            15.84893192    25.11886432    39.81071706    63.09573445\n",
      "   100.           158.48931925   251.18864315   398.10717055   630.95734448\n",
      "  1000.        ]\n",
      "27.1464828353\n",
      "[9 9 8 8 8 7 7 7 6 6]\n",
      "27.1464828353\n",
      "75\n",
      "lin spaces bins\n",
      "[   10.   109.   208.   307.   406.   505.   604.   703.   802.   901.\n",
      "  1000.]\n",
      "27.1464828353\n",
      "[45 10  6  4  3  2  2  1  1  1]\n",
      "27.1464828353\n",
      "75\n"
     ]
    }
   ],
   "source": [
    "def nuInt(x, k):\n",
    "    #print ((k-1)*((k**2-6*k+6.)))\n",
    "    #print ((k**2-3*k+2)*np.power(x,2)+2*(k-1.)*x+2)\n",
    "    #return -np.power((x+1.), (1-k))*((k**2-3.*k+2)*np.power(x,2)+2*(k-1.)*x+2)/((k-1.)*(k**2-5*k+6.))\n",
    "    #this is assuming k=-3 \n",
    "    #return -1./(2.*(r_lim+1.)**2)\n",
    "    return np.power(x,3-k)/(3-k)\n",
    "\n",
    "def nuProfile(Ntot,radii,k=2.9m):\n",
    "    nu0 = Ntot / (4.*np.pi*(nuInt(radii[-1], k)-nuInt(radii[0], k)))\n",
    "    print nu0\n",
    "    #print 'nu0:' ,nu0\n",
    "    return (nu0*(nuInt(radii[1:],k) - nuInt(radii[:-1],k))).astype(int)\n",
    "\n",
    "#radii = np.append(0.,np.logspace(1.,3.,11))\n",
    "radii = np.logspace(1.,3.,11)\n",
    "#plt.xscale('log')\n",
    "#plt.yscale('log')\n",
    "#plt.plot(radii[1:],nuProfile(1000,radii),'b+')\n",
    "print \"log spaced bins\"\n",
    "print radii\n",
    "print nuProfile(1000,radii)\n",
    "print np.sum(nuProfile(1000,radii))\n",
    "radii_lin = np.linspace(10,1000, 11)\n",
    "print \"lin spaces bins\"\n",
    "print radii_lin\n",
    "print nuProfile(1000,radii_lin)\n",
    "print np.sum(nuProfile(1000,radii_lin))\n",
    "\n",
    "# here I conclude that the logspace is not ideal - if we want nicer bins, we should create ones that\n",
    "# sample the volume in a log way - so that our sample is equally spread out \n"
   ]
  },
  {
   "cell_type": "code",
   "execution_count": 36,
   "metadata": {
    "collapsed": false
   },
   "outputs": [
    {
     "name": "stdout",
     "output_type": "stream",
     "text": [
      "[  1.00000000e+00   2.58259287e+00   6.14301895e+00   1.36358662e+01\n",
      "   2.85362998e+01   5.67608209e+01   1.08013279e+02   1.97700912e+02\n",
      "   3.49599450e+02   5.99485613e+02   1.00000000e+03]\n"
     ]
    }
   ],
   "source": [
    "def defineRadii(nTot=1000.,rOut=1000.,nAnn=10,k=2.9):\n",
    "    radii = np.array([1.])\n",
    "    nu0 = nTot*(3.-k)/(4*np.pi*(rOut**(3.-k)-1.))\n",
    "    c = (3-k)*nTot/(4*np.pi*nu0*nAnn)\n",
    "    for i in range(nAnn):\n",
    "        radii = np.append(radii,(c+radii[i]**(3-k))**(1./(3-k)))\n",
    "    return radii\n",
    "    \n",
    "print defineRadii()"
   ]
  },
  {
   "cell_type": "code",
   "execution_count": 27,
   "metadata": {
    "collapsed": false
   },
   "outputs": [
    {
     "data": {
      "text/plain": [
       "[<matplotlib.lines.Line2D at 0x4976290>]"
      ]
     },
     "execution_count": 27,
     "metadata": {},
     "output_type": "execute_result"
    },
    {
     "data": {
      "image/png": "[encoded data removed]",
      "text/plain": [
       "<matplotlib.figure.Figure at 0x4c4e290>"
      ]
     },
     "metadata": {},
     "output_type": "display_data"
    }
   ],
   "source": [
    "def sigmaProfile(radii,sigMax=1000,k=-.2):\n",
    "    \n",
    "    return sigMax*(1.+0.5*(radii[1:]+radii[:-1]))**k\n",
    "\n",
    "plt.plot(1.+0.5*(radii[1:]+radii[:-1]),sigmaProfile(radii))"
   ]
  },
  {
   "cell_type": "code",
   "execution_count": 28,
   "metadata": {
    "collapsed": true
   },
   "outputs": [],
   "source": [
    "def createMockData(radii,Ntot=1000,sigMax=1000,kindex=-3,sigmaindex=-0.2): #total Ngals, no of shells\n",
    "    clusterData = np.zeros((Ntot,5))\n",
    "    counter=0\n",
    "    density = nuProfile(Ntot,radii,k=kindex)\n",
    "    sig = sigmaProfile(radii,sigMax=1000,k=sigmaindex)\n",
    "    \n",
    "    for shell,dens in enumerate(density):\n",
    "        #generate positions\n",
    "        phi = np.random.uniform(0.,2*np.pi,dens)\n",
    "        cosTheta = np.random.uniform(-1,1,dens)\n",
    "        theta = np.arccos(cosTheta)\n",
    "        u = np.random.uniform(radii[shell]**3,radii[shell+1]**3,dens) #cuberoot([rin,rout])\n",
    "        r = np.power(u,1./3)\n",
    "        \n",
    "        x = r*np.sin(theta)*np.cos(phi)\n",
    "        y = r*np.sin(theta)*np.sin(phi)\n",
    "        z = r*cosTheta\n",
    "        \n",
    "        #generate velocities\n",
    "        \n",
    "        speed = sig[shell]*np.random.randn(dens)\n",
    "        #phi = np.random.uniform(0.,2*np.pi,dens)\n",
    "        cosTheta = np.random.uniform(-1,1,dens)\n",
    "        #theta = np.arccos(cosTheta)\n",
    "        \n",
    "        v=speed*cosTheta   \n",
    "        \n",
    "        #replace with vstack,append\n",
    "        clusterData[counter:counter+dens]=np.hstack((shell*np.ones(dens).reshape((dens,1)),x.reshape((dens,1)),y.reshape((dens,1)),z.reshape((dens,1)),v.reshape((dens,1))))\n",
    "        counter += dens\n",
    "    \n",
    "    print counter\n",
    "    return clusterData[:counter],density,sig"
   ]
  },
  {
   "cell_type": "code",
   "execution_count": 29,
   "metadata": {
    "collapsed": false
   },
   "outputs": [
    {
     "ename": "ValueError",
     "evalue": "could not broadcast input array from shape (128,5) into shape (107,5)",
     "output_type": "error",
     "traceback": [
      "\u001b[1;31m---------------------------------------------------------------------------\u001b[0m",
      "\u001b[1;31mValueError\u001b[0m                                Traceback (most recent call last)",
      "\u001b[1;32m<ipython-input-29-fd91b0618a09>\u001b[0m in \u001b[0;36m<module>\u001b[1;34m()\u001b[0m\n\u001b[1;32m----> 1\u001b[1;33m \u001b[0mcluster\u001b[0m\u001b[1;33m,\u001b[0m\u001b[0mdensity\u001b[0m\u001b[1;33m,\u001b[0m\u001b[0msigma\u001b[0m \u001b[1;33m=\u001b[0m \u001b[0mcreateMockData\u001b[0m\u001b[1;33m(\u001b[0m\u001b[0mnp\u001b[0m\u001b[1;33m.\u001b[0m\u001b[0mappend\u001b[0m\u001b[1;33m(\u001b[0m\u001b[1;36m0\u001b[0m\u001b[1;33m,\u001b[0m\u001b[0mnp\u001b[0m\u001b[1;33m.\u001b[0m\u001b[0mlogspace\u001b[0m\u001b[1;33m(\u001b[0m\u001b[1;33m-\u001b[0m\u001b[1;36m2\u001b[0m\u001b[1;33m,\u001b[0m\u001b[1;36m1\u001b[0m\u001b[1;33m,\u001b[0m\u001b[1;36m11\u001b[0m\u001b[1;33m)\u001b[0m\u001b[1;33m)\u001b[0m\u001b[1;33m)\u001b[0m\u001b[1;33m\u001b[0m\u001b[0m\n\u001b[0m\u001b[0;32m      2\u001b[0m \u001b[1;33m\u001b[0m\u001b[0m\n\u001b[0;32m      3\u001b[0m \u001b[1;32mprint\u001b[0m \u001b[0mnp\u001b[0m\u001b[1;33m.\u001b[0m\u001b[0mlogspace\u001b[0m\u001b[1;33m(\u001b[0m\u001b[1;33m-\u001b[0m\u001b[1;36m2\u001b[0m\u001b[1;33m,\u001b[0m\u001b[1;36m1\u001b[0m\u001b[1;33m,\u001b[0m\u001b[1;36m11\u001b[0m\u001b[1;33m)\u001b[0m\u001b[1;33m\u001b[0m\u001b[0m\n\u001b[0;32m      4\u001b[0m \u001b[1;33m\u001b[0m\u001b[0m\n\u001b[0;32m      5\u001b[0m \u001b[0mplt\u001b[0m\u001b[1;33m.\u001b[0m\u001b[0mscatter\u001b[0m\u001b[1;33m(\u001b[0m\u001b[0mcluster\u001b[0m\u001b[1;33m[\u001b[0m\u001b[1;33m:\u001b[0m\u001b[1;33m,\u001b[0m\u001b[1;36m1\u001b[0m\u001b[1;33m]\u001b[0m\u001b[1;33m,\u001b[0m\u001b[0mcluster\u001b[0m\u001b[1;33m[\u001b[0m\u001b[1;33m:\u001b[0m\u001b[1;33m,\u001b[0m\u001b[1;36m2\u001b[0m\u001b[1;33m]\u001b[0m\u001b[1;33m,\u001b[0m\u001b[0ms\u001b[0m\u001b[1;33m=\u001b[0m\u001b[0mnp\u001b[0m\u001b[1;33m.\u001b[0m\u001b[0mfabs\u001b[0m\u001b[1;33m(\u001b[0m\u001b[0mcluster\u001b[0m\u001b[1;33m[\u001b[0m\u001b[1;33m:\u001b[0m\u001b[1;36m4\u001b[0m\u001b[1;33m]\u001b[0m\u001b[1;33m)\u001b[0m\u001b[1;33m/\u001b[0m\u001b[1;36m5\u001b[0m\u001b[1;33m)\u001b[0m\u001b[1;33m\u001b[0m\u001b[0m\n",
      "\u001b[1;32m<ipython-input-28-f794e28df7f1>\u001b[0m in \u001b[0;36mcreateMockData\u001b[1;34m(radii, Ntot, sigMax, kindex, sigmaindex)\u001b[0m\n\u001b[0;32m     27\u001b[0m \u001b[1;33m\u001b[0m\u001b[0m\n\u001b[0;32m     28\u001b[0m         \u001b[1;31m#replace with vstack,append\u001b[0m\u001b[1;33m\u001b[0m\u001b[1;33m\u001b[0m\u001b[0m\n\u001b[1;32m---> 29\u001b[1;33m         \u001b[0mclusterData\u001b[0m\u001b[1;33m[\u001b[0m\u001b[0mcounter\u001b[0m\u001b[1;33m:\u001b[0m\u001b[0mcounter\u001b[0m\u001b[1;33m+\u001b[0m\u001b[0mdens\u001b[0m\u001b[1;33m]\u001b[0m\u001b[1;33m=\u001b[0m\u001b[0mnp\u001b[0m\u001b[1;33m.\u001b[0m\u001b[0mhstack\u001b[0m\u001b[1;33m(\u001b[0m\u001b[1;33m(\u001b[0m\u001b[0mshell\u001b[0m\u001b[1;33m*\u001b[0m\u001b[0mnp\u001b[0m\u001b[1;33m.\u001b[0m\u001b[0mones\u001b[0m\u001b[1;33m(\u001b[0m\u001b[0mdens\u001b[0m\u001b[1;33m)\u001b[0m\u001b[1;33m.\u001b[0m\u001b[0mreshape\u001b[0m\u001b[1;33m(\u001b[0m\u001b[1;33m(\u001b[0m\u001b[0mdens\u001b[0m\u001b[1;33m,\u001b[0m\u001b[1;36m1\u001b[0m\u001b[1;33m)\u001b[0m\u001b[1;33m)\u001b[0m\u001b[1;33m,\u001b[0m\u001b[0mx\u001b[0m\u001b[1;33m.\u001b[0m\u001b[0mreshape\u001b[0m\u001b[1;33m(\u001b[0m\u001b[1;33m(\u001b[0m\u001b[0mdens\u001b[0m\u001b[1;33m,\u001b[0m\u001b[1;36m1\u001b[0m\u001b[1;33m)\u001b[0m\u001b[1;33m)\u001b[0m\u001b[1;33m,\u001b[0m\u001b[0my\u001b[0m\u001b[1;33m.\u001b[0m\u001b[0mreshape\u001b[0m\u001b[1;33m(\u001b[0m\u001b[1;33m(\u001b[0m\u001b[0mdens\u001b[0m\u001b[1;33m,\u001b[0m\u001b[1;36m1\u001b[0m\u001b[1;33m)\u001b[0m\u001b[1;33m)\u001b[0m\u001b[1;33m,\u001b[0m\u001b[0mz\u001b[0m\u001b[1;33m.\u001b[0m\u001b[0mreshape\u001b[0m\u001b[1;33m(\u001b[0m\u001b[1;33m(\u001b[0m\u001b[0mdens\u001b[0m\u001b[1;33m,\u001b[0m\u001b[1;36m1\u001b[0m\u001b[1;33m)\u001b[0m\u001b[1;33m)\u001b[0m\u001b[1;33m,\u001b[0m\u001b[0mv\u001b[0m\u001b[1;33m.\u001b[0m\u001b[0mreshape\u001b[0m\u001b[1;33m(\u001b[0m\u001b[1;33m(\u001b[0m\u001b[0mdens\u001b[0m\u001b[1;33m,\u001b[0m\u001b[1;36m1\u001b[0m\u001b[1;33m)\u001b[0m\u001b[1;33m)\u001b[0m\u001b[1;33m)\u001b[0m\u001b[1;33m)\u001b[0m\u001b[1;33m\u001b[0m\u001b[0m\n\u001b[0m\u001b[0;32m     30\u001b[0m         \u001b[0mcounter\u001b[0m \u001b[1;33m+=\u001b[0m \u001b[0mdens\u001b[0m\u001b[1;33m\u001b[0m\u001b[0m\n\u001b[0;32m     31\u001b[0m \u001b[1;33m\u001b[0m\u001b[0m\n",
      "\u001b[1;31mValueError\u001b[0m: could not broadcast input array from shape (128,5) into shape (107,5)"
     ]
    }
   ],
   "source": [
    "cluster,density,sigma = createMockData(np.append(0,np.logspace(-2,1,11)))\n",
    "\n",
    "print np.logspace(-2,1,11)\n",
    "\n",
    "plt.scatter(cluster[:,1],cluster[:,2],s=np.fabs(cluster[:4])/5)"
   ]
  },
  {
   "cell_type": "code",
   "execution_count": 6,
   "metadata": {
    "collapsed": false
   },
   "outputs": [
    {
     "data": {
      "text/html": [
       "<div>\n",
       "<table border=\"1\" class=\"dataframe\">\n",
       "  <thead>\n",
       "    <tr style=\"text-align: right;\">\n",
       "      <th></th>\n",
       "      <th>0</th>\n",
       "      <th>1</th>\n",
       "      <th>2</th>\n",
       "      <th>3</th>\n",
       "      <th>4</th>\n",
       "    </tr>\n",
       "  </thead>\n",
       "  <tbody>\n",
       "    <tr>\n",
       "      <th>count</th>\n",
       "      <td>994.000000</td>\n",
       "      <td>994.000000</td>\n",
       "      <td>994.000000</td>\n",
       "      <td>994.000000</td>\n",
       "      <td>994.000000</td>\n",
       "    </tr>\n",
       "    <tr>\n",
       "      <th>mean</th>\n",
       "      <td>5.693159</td>\n",
       "      <td>-0.025881</td>\n",
       "      <td>-0.024694</td>\n",
       "      <td>-0.038884</td>\n",
       "      <td>52.580055</td>\n",
       "    </tr>\n",
       "    <tr>\n",
       "      <th>std</th>\n",
       "      <td>2.078862</td>\n",
       "      <td>0.979960</td>\n",
       "      <td>0.956779</td>\n",
       "      <td>1.003943</td>\n",
       "      <td>741.213093</td>\n",
       "    </tr>\n",
       "    <tr>\n",
       "      <th>min</th>\n",
       "      <td>0.000000</td>\n",
       "      <td>-5.908787</td>\n",
       "      <td>-4.680436</td>\n",
       "      <td>-7.796008</td>\n",
       "      <td>-3133.809266</td>\n",
       "    </tr>\n",
       "    <tr>\n",
       "      <th>25%</th>\n",
       "      <td>4.000000</td>\n",
       "      <td>-0.211761</td>\n",
       "      <td>-0.218818</td>\n",
       "      <td>-0.170836</td>\n",
       "      <td>-273.311379</td>\n",
       "    </tr>\n",
       "    <tr>\n",
       "      <th>50%</th>\n",
       "      <td>6.000000</td>\n",
       "      <td>-0.003869</td>\n",
       "      <td>-0.004193</td>\n",
       "      <td>-0.000696</td>\n",
       "      <td>14.626836</td>\n",
       "    </tr>\n",
       "    <tr>\n",
       "      <th>75%</th>\n",
       "      <td>7.000000</td>\n",
       "      <td>0.144071</td>\n",
       "      <td>0.165231</td>\n",
       "      <td>0.156901</td>\n",
       "      <td>348.657303</td>\n",
       "    </tr>\n",
       "    <tr>\n",
       "      <th>max</th>\n",
       "      <td>10.000000</td>\n",
       "      <td>7.653392</td>\n",
       "      <td>8.014847</td>\n",
       "      <td>8.520169</td>\n",
       "      <td>4572.619881</td>\n",
       "    </tr>\n",
       "  </tbody>\n",
       "</table>\n",
       "</div>"
      ],
      "text/plain": [
       "                0           1           2           3            4\n",
       "count  994.000000  994.000000  994.000000  994.000000   994.000000\n",
       "mean     5.693159   -0.025881   -0.024694   -0.038884    52.580055\n",
       "std      2.078862    0.979960    0.956779    1.003943   741.213093\n",
       "min      0.000000   -5.908787   -4.680436   -7.796008 -3133.809266\n",
       "25%      4.000000   -0.211761   -0.218818   -0.170836  -273.311379\n",
       "50%      6.000000   -0.003869   -0.004193   -0.000696    14.626836\n",
       "75%      7.000000    0.144071    0.165231    0.156901   348.657303\n",
       "max     10.000000    7.653392    8.014847    8.520169  4572.619881"
      ]
     },
     "execution_count": 6,
     "metadata": {},
     "output_type": "execute_result"
    }
   ],
   "source": [
    "import pandas as pd\n",
    "\n",
    "clusterPd = pd.DataFrame(cluster)\n",
    "\n",
    "clusterPd.describe()"
   ]
  },
  {
   "cell_type": "code",
   "execution_count": 7,
   "metadata": {
    "collapsed": false
   },
   "outputs": [],
   "source": [
    "clusterPd.to_csv('mock_cluster.csv')"
   ]
  },
  {
   "cell_type": "code",
   "execution_count": null,
   "metadata": {
    "collapsed": true
   },
   "outputs": [],
   "source": []
  }
 ],
 "metadata": {
  "kernelspec": {
   "display_name": "Python 2",
   "language": "python",
   "name": "python2"
  },
  "language_info": {
   "codemirror_mode": {
    "name": "ipython",
    "version": 2
   },
   "file_extension": ".py",
   "mimetype": "text/x-python",
   "name": "python",
   "nbconvert_exporter": "python",
   "pygments_lexer": "ipython2",
   "version": "2.7.10"
  }
 },
 "nbformat": 4,
 "nbformat_minor": 0
}
