{
 "cells": [
  {
   "cell_type": "code",
   "execution_count": 2,
   "metadata": {
    "collapsed": false
   },
   "outputs": [],
   "source": [
    "import pandas as pd\n",
    "import numpy as np\n",
    "import matplotlib.pyplot as plt\n",
    "import scipy.stats\n",
    "from scipy.integrate import quad\n",
    "from scipy.special import hyp2f1\n",
    "\n",
    "from StringIO import StringIO \n",
    "%matplotlib inline\n"
   ]
  },
  {
   "cell_type": "code",
   "execution_count": 5,
   "metadata": {
    "collapsed": false
   },
   "outputs": [
    {
     "data": {
      "text/html": [
       "<div>\n",
       "<table border=\"1\" class=\"dataframe\">\n",
       "  <thead>\n",
       "    <tr style=\"text-align: right;\">\n",
       "      <th></th>\n",
       "      <th>radius2D</th>\n",
       "      <th>shellId</th>\n",
       "      <th>x</th>\n",
       "      <th>y</th>\n",
       "      <th>z</th>\n",
       "      <th>v</th>\n",
       "    </tr>\n",
       "  </thead>\n",
       "  <tbody>\n",
       "    <tr>\n",
       "      <th>count</th>\n",
       "      <td>1000.000000</td>\n",
       "      <td>1000.000000</td>\n",
       "      <td>1000.000000</td>\n",
       "      <td>1000.000000</td>\n",
       "      <td>1000.000000</td>\n",
       "      <td>1000.000000</td>\n",
       "    </tr>\n",
       "    <tr>\n",
       "      <th>mean</th>\n",
       "      <td>154.205904</td>\n",
       "      <td>4.500000</td>\n",
       "      <td>4.662470</td>\n",
       "      <td>-7.206179</td>\n",
       "      <td>3.370333</td>\n",
       "      <td>6.829582</td>\n",
       "    </tr>\n",
       "    <tr>\n",
       "      <th>std</th>\n",
       "      <td>222.522683</td>\n",
       "      <td>2.873719</td>\n",
       "      <td>192.513279</td>\n",
       "      <td>190.222250</td>\n",
       "      <td>188.251102</td>\n",
       "      <td>295.177409</td>\n",
       "    </tr>\n",
       "    <tr>\n",
       "      <th>min</th>\n",
       "      <td>0.282092</td>\n",
       "      <td>0.000000</td>\n",
       "      <td>-885.504044</td>\n",
       "      <td>-914.696833</td>\n",
       "      <td>-935.733984</td>\n",
       "      <td>-1800.790183</td>\n",
       "    </tr>\n",
       "    <tr>\n",
       "      <th>25%</th>\n",
       "      <td>7.787780</td>\n",
       "      <td>2.000000</td>\n",
       "      <td>-21.543062</td>\n",
       "      <td>-22.828401</td>\n",
       "      <td>-19.806140</td>\n",
       "      <td>-99.982980</td>\n",
       "    </tr>\n",
       "    <tr>\n",
       "      <th>50%</th>\n",
       "      <td>47.379177</td>\n",
       "      <td>4.500000</td>\n",
       "      <td>0.260367</td>\n",
       "      <td>-0.425345</td>\n",
       "      <td>0.406701</td>\n",
       "      <td>2.582063</td>\n",
       "    </tr>\n",
       "    <tr>\n",
       "      <th>75%</th>\n",
       "      <td>212.501908</td>\n",
       "      <td>7.000000</td>\n",
       "      <td>28.387367</td>\n",
       "      <td>20.662865</td>\n",
       "      <td>24.898741</td>\n",
       "      <td>119.634603</td>\n",
       "    </tr>\n",
       "    <tr>\n",
       "      <th>max</th>\n",
       "      <td>982.440911</td>\n",
       "      <td>9.000000</td>\n",
       "      <td>939.847104</td>\n",
       "      <td>952.085239</td>\n",
       "      <td>864.004359</td>\n",
       "      <td>1979.414230</td>\n",
       "    </tr>\n",
       "  </tbody>\n",
       "</table>\n",
       "</div>"
      ],
      "text/plain": [
       "          radius2D      shellId            x            y            z  \\\n",
       "count  1000.000000  1000.000000  1000.000000  1000.000000  1000.000000   \n",
       "mean    154.205904     4.500000     4.662470    -7.206179     3.370333   \n",
       "std     222.522683     2.873719   192.513279   190.222250   188.251102   \n",
       "min       0.282092     0.000000  -885.504044  -914.696833  -935.733984   \n",
       "25%       7.787780     2.000000   -21.543062   -22.828401   -19.806140   \n",
       "50%      47.379177     4.500000     0.260367    -0.425345     0.406701   \n",
       "75%     212.501908     7.000000    28.387367    20.662865    24.898741   \n",
       "max     982.440911     9.000000   939.847104   952.085239   864.004359   \n",
       "\n",
       "                 v  \n",
       "count  1000.000000  \n",
       "mean      6.829582  \n",
       "std     295.177409  \n",
       "min   -1800.790183  \n",
       "25%     -99.982980  \n",
       "50%       2.582063  \n",
       "75%     119.634603  \n",
       "max    1979.414230  "
      ]
     },
     "execution_count": 5,
     "metadata": {},
     "output_type": "execute_result"
    }
   ],
   "source": [
    "data=pd.read_csv('mock_cluster_4.csv')\n",
    "data.rename(columns={'Unnamed: 0': 'radius2D', '0':'shellId', '1':'x', '2':'y', '3':'z', '4':'v'},inplace=True)\n",
    "data.radius2D = np.sqrt(np.power(data.x,2)+np.power(data.y,2))\n",
    "data.describe()\n"
   ]
  },
  {
   "cell_type": "code",
   "execution_count": 6,
   "metadata": {
    "collapsed": false
   },
   "outputs": [
    {
     "name": "stdout",
     "output_type": "stream",
     "text": [
      "1000\n"
     ]
    }
   ],
   "source": [
    "N_total =  data['x'].count()\n",
    "del data['x']\n",
    "del data['y']\n",
    "del data['z']\n",
    "del data['shellId']\n",
    "print N_total"
   ]
  },
  {
   "cell_type": "code",
   "execution_count": 7,
   "metadata": {
    "collapsed": false
   },
   "outputs": [],
   "source": [
    "# here created the grid cell boundaries for our entries \n",
    "def get_the_grid(arr):\n",
    "    # 1D array\n",
    "    # has to be sorted!!! \n",
    "    arr = np.array(arr)\n",
    "    grid = (arr[1:]+arr[:-1])/2.\n",
    "    #print grid.shape\n",
    "    #print arr[:-1].shape\n",
    "    grid = np.append(2.*arr[0]-grid[0], grid)\n",
    "    grid = np.append(grid, 2.*arr[-1]-grid[-1])\n",
    "    #grid = np.append(grid, 2.*arr[arr.shape[0]-1]-grid[-1])\n",
    "    grid_low = grid[:-1]\n",
    "    grid_up = grid[1:]\n",
    "    return grid_low, grid_up                                                                                                                                                   \n",
    "\n",
    "data = data.sort(['radius2D'])\n",
    "grid_low, grid_up = get_the_grid(data['radius2D'])\n",
    "if grid_low[0]<0:\n",
    "    grid_low[0]=0.\n",
    "#print grid_low.shape, grid_up.shape, data.radius2D.shape\n",
    "data['dr_in']= grid_low\n",
    "data['dr_out'] = grid_up\n",
    "\n",
    "data = data.sort(['v'])\n",
    "grid_low, grid_up = get_the_grid(data['v'])\n",
    "data['dv_in']= grid_low\n",
    "data['dv_out'] = grid_up\n",
    "\n",
    "\n",
    "#data_vel_sort = data.sort(['v'])"
   ]
  },
  {
   "cell_type": "code",
   "execution_count": 12,
   "metadata": {
    "collapsed": false
   },
   "outputs": [],
   "source": [
    "data  =  data.sort(['radius2D'])"
   ]
  },
  {
   "cell_type": "code",
   "execution_count": 66,
   "metadata": {
    "collapsed": false
   },
   "outputs": [
    {
     "name": "stdout",
     "output_type": "stream",
     "text": [
      "(1000, 2)\n",
      "all detections: 307.346756965\n"
     ]
    }
   ],
   "source": [
    "def nu_f(z, r2D, nu_0, k):\n",
    "    return nu_0*z*np.power((np.power(r2D,2) + z**2),-k/2.)*np.power((z**2/np.power(r2D,2) +1), k/2.)* \\\n",
    "           hyp2f1(0.5, k/2., 1.5, -(z**2/np.power(r2D,2)))\n",
    "\n",
    "def nu_int(z, r2D, nu_0, k):\n",
    "    return nu_0*2.*np.pi*r2D/np.power((np.power(r2D,2)+z**2),k/2.)\n",
    "    \n",
    "def sig_f_sq(z, r2D, sig_0, m):\n",
    "    nu_0 = sig_0 # change this later\n",
    "    k = m\n",
    "    return sig_0**2/np.power(np.power(z,2)+np.power(r2D,2)  , m) # because we use sigma square, cause thats how gaussians add\n",
    "\n",
    "def sig_f(z, r2D, sig_0, m):\n",
    "    nu_0 = sig_0 # change this later\n",
    "    k = m\n",
    "    return sig_0/np.power(np.power(z,2)+np.power(r2D,2)  , m/2.) # because we use sigma square, cause thats how gaussians add\n",
    "\n",
    "\n",
    "def vel_spread(v, sigma2D, v_mean, Ndr):\n",
    "    return Ndr/(np.sqrt(2.*np.pi)*sigma2D)*np.exp(-np.power((v-v_mean),2)/(2.*np.power(sigma2D,2)))\n",
    "\n",
    "            \n",
    "\n",
    "def log_likelihood_2(sig_0, m, nu_0, k, v_mean=6.829582):\n",
    "    # note that everything here is performed only on cells that actually have galaxies in them\n",
    "    z_range = np.sqrt(1000.**2 - np.power(np.array(data.radius2D),2))\n",
    "    N_r = np.array([quad(nu_int, -z, z, args=(r2D, nu_0, k)) for z, r2D in zip(z_range, np.array(data.radius2D))])\n",
    "    N_r = N_r[:,0]*(data.dr_out-data.dr_in)\n",
    "    print np.sum(N_r)\n",
    "    #sigma_2D = quad(sig_f, data.dr_in, data.dr_out, args=(data.radius2D, sig_0, m))# another scarry integral # projected sigma in that grid cell\n",
    "    sigma_2D_sq = np.sqrt([quad(sig_f_sq, -z, z, args=(r2D, sig_0, m)) for z, r2D in zip(z_range, np.array(data.radius2D))])\n",
    "    sigma_2D_sq = sigma_2D_sq[:,0]\n",
    "    sigma_2D = np.array([quad(sig_f, -z, z, args=(r2D, sig_0, m)) for z, r2D in zip(z_range, np.array(data.radius2D))])\n",
    "    sigma_2D = sigma_2D[:,0]/(2.*z_range)\n",
    "\n",
    "    print sigma_2D\n",
    "\n",
    "    #N_v =  quad(vel_spread, data.dv_in, data.dv_out, args=(sigma2D, v_mean, N_r))# integral from dv1 to dv2 of gaussian with sigma 2d, that is normalized by N_r # number of galaxies in the dv range\n",
    "    N_v = np.array([vel_spread(np.array(data.v), sig, v_mean, nr)*(data.dv_out-data.dv_in) for sig,nr in zip(sigma_2D, N_r)])\n",
    "    print N_r.shape, N_v.shape\n",
    "    #N_v = N_v*(data.dv_out-data.dv_in)\n",
    "    print \"all detections:\", np.sum(N_v)\n",
    "    #return (-1.*np.sum(N_det)*(np.sum(np.log(N_det))))\n",
    "\n",
    "def dNdrdv(z, r2D, v, sig_0, m, nu_0, k, v_mean=6.829582):\n",
    "    sigma = sig_f(z, r2D, sig_0, m)\n",
    "    return 2.*np.pi*sig_0**2/np.power(np.power(z,2)+np.power(r2D,2)  , m)*\\\n",
    "            1./(np.sqrt(2.*np.pi)*sigma)*np.exp(-np.power((v-v_mean),2)/(2.*np.power(sigma,2)))\n",
    "\n",
    "def log_likelihood(sig_0, m, nu_0, k, v_mean=6.829582):\n",
    "    # note that everything here is performed only on cells that actually have galaxies in them\n",
    "    z_range = np.sqrt(1000.**2 - np.power(np.array(data.radius2D),2))\n",
    "    \n",
    "    dN = np.array([quad(dNdrdv, -z, z, args=(r2D, v, sig_0, m, nu_0, k)) for z,v, r2D in zip(z_range, np.array(data.v),np.array(data.radius2D))])\n",
    "    print dN.shape\n",
    "    print \"all detections:\", np.sum(dN[:,0]/((np.amax(data.radius2D)-np.amin(data.radius2D))*(np.amax(data.v)-np.amin(data.v))))\n",
    "                                               \n",
    "    \n",
    "\n",
    "    \n",
    "def log_prior(m, b):\n",
    "    return 0.\n",
    "    \n",
    "def straight_line_log_posterior(x,y,sigmay, m,b):\n",
    "    return (log_likelihood(x,y,sigmay, m,b) + log_prior(m, b))\n",
    "# initial parameters (from actual distribution used)\n",
    "nu_0_th = 11.5200189254\n",
    "k_th = 3.\n",
    "sig_0_th = 1000.\n",
    "m_th = 0.2 \n",
    "v_mean =6.829582 #52.580055# taken from the data\n",
    "log_likelihood(sig_0_th, m_th, nu_0_th, k_th)"
   ]
  },
  {
   "cell_type": "code",
   "execution_count": null,
   "metadata": {
    "collapsed": false,
    "scrolled": false
   },
   "outputs": [],
   "source": []
  },
  {
   "cell_type": "code",
   "execution_count": null,
   "metadata": {
    "collapsed": true
   },
   "outputs": [],
   "source": []
  },
  {
   "cell_type": "code",
   "execution_count": 136,
   "metadata": {
    "collapsed": false
   },
   "outputs": [],
   "source": []
  },
  {
   "cell_type": "code",
   "execution_count": 137,
   "metadata": {
    "collapsed": false
   },
   "outputs": [],
   "source": []
  },
  {
   "cell_type": "code",
   "execution_count": 98,
   "metadata": {
    "collapsed": false
   },
   "outputs": [],
   "source": []
  },
  {
   "cell_type": "code",
   "execution_count": null,
   "metadata": {
    "collapsed": false
   },
   "outputs": [],
   "source": []
  },
  {
   "cell_type": "code",
   "execution_count": null,
   "metadata": {
    "collapsed": false
   },
   "outputs": [],
   "source": []
  },
  {
   "cell_type": "code",
   "execution_count": null,
   "metadata": {
    "collapsed": true
   },
   "outputs": [],
   "source": []
  }
 ],
 "metadata": {
  "kernelspec": {
   "display_name": "Python 2",
   "language": "python",
   "name": "python2"
  },
  "language_info": {
   "codemirror_mode": {
    "name": "ipython",
    "version": 2
   },
   "file_extension": ".py",
   "mimetype": "text/x-python",
   "name": "python",
   "nbconvert_exporter": "python",
   "pygments_lexer": "ipython2",
   "version": "2.7.3"
  }
 },
 "nbformat": 4,
 "nbformat_minor": 0
}
